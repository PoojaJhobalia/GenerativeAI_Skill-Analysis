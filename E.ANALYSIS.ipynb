{
 "cells": [
  {
   "cell_type": "code",
   "execution_count": 45,
   "id": "3ea6a9d3-9a1a-4725-adb7-5c59d9c92290",
   "metadata": {
    "execution_time": {
     "end_time": "2025-06-11T19:39:08.625445Z",
     "start_time": "2025-06-11T19:39:08.623046Z"
    }
   },
   "outputs": [],
   "source": [
    "import linkedin.darwinfilemanager"
   ]
  },
  {
   "cell_type": "code",
   "execution_count": 46,
   "id": "a8243b18-d784-4c6e-a661-40b01eca59e8",
   "metadata": {
    "execution_time": {
     "end_time": "2025-06-11T19:39:09.627110Z",
     "start_time": "2025-06-11T19:39:09.624045Z"
    },
    "scrolled": true
   },
   "outputs": [],
   "source": [
    "import pandas as pd\n",
    "import matplotlib.pyplot as plt\n",
    "import numpy as np\n",
    "import seaborn as sns\n",
    "import itertools\n",
    "from scipy.interpolate import make_interp_spline\n",
    "from matplotlib.ticker import PercentFormatter\n",
    "from matplotlib.pyplot import plot, savefig"
   ]
  },
  {
   "cell_type": "code",
   "execution_count": null,
   "id": "6ff2d0e6-b1a8-499c-9e36-067580d63ccd",
   "metadata": {},
   "outputs": [],
   "source": []
  },
  {
   "cell_type": "code",
   "execution_count": null,
   "id": "d8758b0a-ed2e-4664-99c0-91ee7c921034",
   "metadata": {},
   "outputs": [],
   "source": []
  },
  {
   "cell_type": "markdown",
   "id": "b47b78b4-6774-4f8d-892e-5d10d641600d",
   "metadata": {},
   "source": [
    "# Score Extraction"
   ]
  },
  {
   "cell_type": "code",
   "execution_count": 47,
   "id": "53c48b06-e09e-450c-b6f3-4a181b60dae1",
   "metadata": {
    "execution_time": {
     "end_time": "2025-06-11T19:39:47.846093Z",
     "start_time": "2025-06-11T19:39:46.778654Z"
    }
   },
   "outputs": [],
   "source": [
    "%%capture\n",
    "%reload_ext linkedin.lisql\n",
    "%config SqlMagic.autocommit=False\n",
    "%manage_trino holdem\n",
    "%sql SET SESSION li_authorization_user = 'gtme';"
   ]
  },
  {
   "cell_type": "markdown",
   "id": "34c58254-982c-4e74-86cd-6a0c1eba9d1a",
   "metadata": {},
   "source": [
    "## Q2FY25 DATA:"
   ]
  },
  {
   "cell_type": "code",
   "execution_count": 48,
   "id": "06f38095-521d-4031-852a-e447b2f93d26",
   "metadata": {
    "execution_time": {
     "end_time": "2025-06-11T19:40:06.817868Z",
     "start_time": "2025-06-11T19:39:51.623762Z"
    }
   },
   "outputs": [],
   "source": [
    "%%sql scores <<\n",
    "WITH base AS (\n",
    "    SELECT\n",
    "        c.callid,\n",
    "        array_agg(DISTINCT z.msft_employee ORDER BY z.msft_employee DESC) AS speaker_types\n",
    "         \n",
    "    FROM u_gtme.lms_bpscore_combined AS c\n",
    "     \n",
    "    LEFT JOIN u_superstore.gong_calls_detail_2 AS z\n",
    "        ON c.callid = z.callid\n",
    "         \n",
    "    WHERE z.level_03_manager_name != 'Lekha Doshi' --no vendor CSM/AE/other calls\n",
    "        AND z.duration > 300 -- calls more than 5 minutes\n",
    "    GROUP BY c.callid\n",
    "         \n",
    "),\n",
    " \n",
    "relevant_calls AS (\n",
    "\n",
    "    SELECT DISTINCT callid\n",
    "    FROM base\n",
    "    WHERE array_join(speaker_types, ',') LIKE '%MSFT%CLIENT%' -- calls with atleat 1 customer & rep on call\n",
    "    \n",
    "),\n",
    "\n",
    "authorised_countries AS (\n",
    " SELECT *\n",
    " FROM (VALUES\n",
    "  ('United States'), \n",
    "  ('Canada'),\n",
    "  ('United Kingdom'),\n",
    "  ('Ireland'),\n",
    "  ('Spain'),\n",
    "  ('Italy'), \n",
    "  ('Israel'),\n",
    "  ('Brazil'),\n",
    "  ('Bulgaria'),\n",
    "  ('Netherlands'),\n",
    "  ('Sweden'),\n",
    "  ('Denmark'),\n",
    "  ('Finland'),\n",
    "  ('Norway'),\n",
    "  -- ('France'),\n",
    "  ('Mexico'),\n",
    "  ('Chile'),\n",
    "  ('Argentina'),\n",
    "  ('Colombia'),\n",
    "  ('Peru'),\n",
    "  ('Australia'),\n",
    "  ('New Zealand'),\n",
    "  ('India'),\n",
    "  ('Singapore')\n",
    " ) AS t (country)\n",
    "),\n",
    "all_data AS (\n",
    "SELECT \n",
    " \n",
    "  lms_bpscore_combined.callid,\n",
    "  \n",
    "  calls.crm_country,\n",
    "  -- calls.emailaddress,\n",
    " \n",
    "  users.level_03_manager_name,\n",
    "  users.level_04_manager_name,\n",
    "  -- users.level_05_manager_name,\n",
    "  -- users.business_unit,\n",
    "  users.role, \n",
    "  -- users.d365_user_role_type,\n",
    "  users.job_title,\n",
    "  users.job_family,\n",
    "  users.work_location_country_name AS rep_country,\n",
    "  users.region AS rep_region,\n",
    "  users.rep_segment AS rep_segment,\n",
    "  calls.calldate,\n",
    "  calls.title,\n",
    "  calls.duration,\n",
    "  calls.crm_country,\n",
    "  users.linkedin_emails[1] AS emailaddress,\n",
    "  \n",
    "  lms_bpscore_combined.research_score,\n",
    "  lms_bpscore_combined.highimpactquestions_score,\n",
    "  lms_bpscore_combined.examinechallenges_score,\n",
    "  lms_bpscore_combined.present_impact_story,\n",
    "  lms_bpscore_combined.share_key_insights,\n",
    "  lms_bpscore_combined.align_unique_differentiators,\n",
    "  lms_bpscore_combined.multithreading_score,\n",
    "  lms_bpscore_combined.deliver_compelling_proposals,\n",
    "  lms_bpscore_combined.prove_roi,\n",
    "  lms_bpscore_combined.handle_objections,\n",
    "  lms_bpscore_combined.navigate_decisionmaking_processes,\n",
    "  lms_bpscore_combined.set_purposeful_milestones,\n",
    "  lms_bpscore_combined.establish_alignment_accountability\n",
    "  \n",
    " FROM u_gtme.lms_bpscore_combined\n",
    "  \n",
    " LEFT JOIN u_superstore.gong_calls_detail_2 AS calls\n",
    "  ON lms_bpscore_combined.callid = calls.callid\n",
    "  AND calls.call_row_cnt = 1\n",
    "  \n",
    " LEFT JOIN u_superstore.org_and_user_dimensions_final AS users\n",
    "  ON CONCAT(SUBSTRING(CAST(calls.calldate AS VARCHAR), 1, 8), '01') = users.month_begin_date\n",
    "  AND users.current_workday_id = calls.employee_id\n",
    "  \n",
    " WHERE lms_bpscore_combined.callid IN (SELECT callid FROM relevant_calls)\n",
    "  AND calls.crm_country IN (SELECT country FROM authorised_countries) -- crm_country is None\n",
    "  AND users.work_location_country_name IN (SELECT country FROM authorised_countries)\n",
    "  AND calls.callid NOT IN (\n",
    "   '7975914294131661578',\n",
    "   '6578777980626122142'\n",
    "  )\n",
    "  \n",
    ")\n",
    "\n",
    "\n",
    "SELECT * from all_data;"
   ]
  },
  {
   "cell_type": "markdown",
   "id": "6d916c8b-eca6-4a27-bbe8-7ccf8060a4d6",
   "metadata": {},
   "source": [
    "## Q3 DATA:"
   ]
  },
  {
   "cell_type": "code",
   "execution_count": null,
   "id": "e9e4053b-05fa-4dd7-8ec4-f6b48777dca9",
   "metadata": {},
   "outputs": [],
   "source": [
    "%%sql scores <<\n",
    "SELECT \n",
    "    t5.*,\n",
    "    t6.job_title, \n",
    "\tt6.role, \n",
    "\tt6.rep_segment,\n",
    "\tt6.rep_vertical, \n",
    "\tt6.work_location_country_name\n",
    "FROM u_gtme.lms_bpscore_combined t5\n",
    "    --u_gtme.LMS_BPskill_combined t5\n",
    "LEFT JOIN u_superstore.org_and_user_dimensions_final t6 \n",
    "        ON t5.employee_id  = t6.current_workday_id \n",
    "            AND CONCAT(SUBSTRING(CAST(t5.calldate AS VARCHAR), 1, 8), '01') = t6.month_begin_date\n",
    "           \n",
    ";"
   ]
  },
  {
   "cell_type": "code",
   "execution_count": 95,
   "id": "60dc59da-b4d6-41d2-88e2-b19bc19d28f0",
   "metadata": {
    "execution_time": {
     "end_time": "2025-06-11T19:57:44.845288Z",
     "start_time": "2025-06-11T19:57:44.826287Z"
    }
   },
   "outputs": [],
   "source": [
    "df = scores.copy()\n",
    "df['callid'].nunique()"
   ]
  },
  {
   "cell_type": "code",
   "execution_count": 96,
   "id": "33b03805-8352-4ea2-b542-cd4380bba038",
   "metadata": {
    "execution_time": {
     "end_time": "2025-06-11T19:57:45.637893Z",
     "start_time": "2025-06-11T19:57:45.623877Z"
    }
   },
   "outputs": [],
   "source": [
    "df.head()"
   ]
  },
  {
   "cell_type": "code",
   "execution_count": 73,
   "id": "7f320598-81cc-4672-8db1-5bd4ddb322a0",
   "metadata": {
    "execution_time": {
     "end_time": "2025-06-11T19:47:19.879029Z",
     "start_time": "2025-06-11T19:47:19.875223Z"
    }
   },
   "outputs": [],
   "source": [
    "df.columns"
   ]
  },
  {
   "cell_type": "code",
   "execution_count": 21,
   "id": "204a5f12-2b2b-4b4f-b9a2-e95535a64182",
   "metadata": {
    "execution_time": {
     "end_time": "2025-06-11T19:11:00.627523Z",
     "start_time": "2025-06-11T19:11:00.624653Z"
    }
   },
   "outputs": [],
   "source": [
    "skill_columns = [\n",
    "    'research_score', 'highimpactquestions_score', 'examinechallenges_score',\n",
    "    'present_impact_story', 'share_key_insights', 'align_unique_differentiators',\n",
    "    'deliver_compelling_proposals', 'prove_roi', 'handle_objections',\n",
    "    'navigate_decisionmaking_processes', 'set_purposeful_milestones',\n",
    "    'establish_alignment_accountability'\n",
    "]"
   ]
  },
  {
   "cell_type": "code",
   "execution_count": 22,
   "id": "ffe8f9b8-d270-48ba-b874-191e89ccaa40",
   "metadata": {
    "execution_time": {
     "end_time": "2025-06-11T19:11:05.881543Z",
     "start_time": "2025-06-11T19:11:05.854547Z"
    }
   },
   "outputs": [],
   "source": [
    "missing_values = df[skill_columns].isnull().sum()\n",
    "print(\"Missing values in skill score columns:\")\n",
    "print(missing_values)"
   ]
  },
  {
   "cell_type": "code",
   "execution_count": 23,
   "id": "484edcb1-6958-4701-a6d9-0144983e613e",
   "metadata": {
    "execution_time": {
     "end_time": "2025-06-11T19:11:08.070474Z",
     "start_time": "2025-06-11T19:11:08.038998Z"
    }
   },
   "outputs": [],
   "source": [
    "cleaned_data = df.dropna(subset=skill_columns)\n",
    "print(cleaned_data.shape)"
   ]
  },
  {
   "cell_type": "code",
   "execution_count": 24,
   "id": "6fce14ce-3ceb-43dd-b83c-c0dbd110da49",
   "metadata": {
    "execution_time": {
     "end_time": "2025-06-11T19:11:09.759073Z",
     "start_time": "2025-06-11T19:11:09.732581Z"
    }
   },
   "outputs": [],
   "source": [
    "missing_values = cleaned_data[skill_columns].isnull().sum()\n",
    "print(\"Missing values in skill score columns:\")\n",
    "print(missing_values)"
   ]
  },
  {
   "cell_type": "code",
   "execution_count": 25,
   "id": "478b7724-1499-4209-b65b-738dc0a8e9dc",
   "metadata": {
    "execution_time": {
     "end_time": "2025-06-11T19:11:11.630805Z",
     "start_time": "2025-06-11T19:11:11.622590Z"
    }
   },
   "outputs": [],
   "source": [
    "correlation_matrix = cleaned_data[skill_columns].corr()\n",
    "print(correlation_matrix.shape)"
   ]
  },
  {
   "cell_type": "markdown",
   "id": "f5cd7837-1028-42f1-a4ee-369e259f6d68",
   "metadata": {},
   "source": [
    "### 1. Correlation Analysis visualizes relationships among skill scores."
   ]
  },
  {
   "cell_type": "code",
   "execution_count": 26,
   "id": "64d4f804-dc1b-4de0-8aa9-10f77a2b95b9",
   "metadata": {
    "execution_time": {
     "end_time": "2025-06-11T19:11:14.022468Z",
     "start_time": "2025-06-11T19:11:14.005671Z"
    }
   },
   "outputs": [],
   "source": [
    "plt.figure(figsize=(12, 12))"
   ]
  },
  {
   "cell_type": "code",
   "execution_count": 27,
   "id": "ee37670a-6a20-46ff-98e9-e3b98a388c01",
   "metadata": {
    "execution_time": {
     "end_time": "2025-06-11T19:11:14.647932Z",
     "start_time": "2025-06-11T19:11:14.626158Z"
    }
   },
   "outputs": [],
   "source": [
    "sns.heatmap(correlation_matrix, annot=True, fmt='.2f', cmap='coolwarm')"
   ]
  },
  {
   "cell_type": "code",
   "execution_count": 28,
   "id": "88f2e578-973a-40ad-afb5-36241c809c43",
   "metadata": {
    "execution_time": {
     "end_time": "2025-06-11T19:11:16.083863Z",
     "start_time": "2025-06-11T19:11:16.064302Z"
    }
   },
   "outputs": [],
   "source": [
    "sns.heatmap(correlation_matrix, fmt='.2f', cmap='coolwarm')"
   ]
  },
  {
   "cell_type": "code",
   "execution_count": null,
   "id": "f41191da-b90e-4e40-b59a-191b6137a91f",
   "metadata": {
    "execution_time": {
     "end_time": "2025-05-14T14:48:10.612570Z",
     "start_time": "2025-05-14T14:48:10.595493Z"
    }
   },
   "outputs": [],
   "source": []
  },
  {
   "cell_type": "code",
   "execution_count": 29,
   "id": "5fccb29e-317a-4479-9fdb-24ef2a799133",
   "metadata": {
    "execution_time": {
     "end_time": "2025-06-11T19:11:24.094183Z",
     "start_time": "2025-06-11T19:11:23.972276Z"
    }
   },
   "outputs": [],
   "source": [
    "plt.title(\"Correlation Matrix of Skill Scores\")\n",
    "plt.show()"
   ]
  },
  {
   "cell_type": "code",
   "execution_count": null,
   "id": "41e5f3d7-0fd7-40e5-b44a-662ad9ec370d",
   "metadata": {},
   "outputs": [],
   "source": []
  },
  {
   "cell_type": "code",
   "execution_count": null,
   "id": "439ec4b2-f18d-47d8-95f0-c9499d86cccc",
   "metadata": {
    "execution_time": {
     "end_time": "2025-05-14T14:46:43.083585Z",
     "start_time": "2025-05-14T14:46:43.065022Z"
    }
   },
   "outputs": [],
   "source": [
    "\n",
    "\n",
    "\n",
    "\n"
   ]
  },
  {
   "cell_type": "markdown",
   "id": "177123eb-39e8-49af-8abe-9ca36b956c9c",
   "metadata": {},
   "source": [
    "\n",
    "### 2. Group Analysis calculates average skill scores segmented by roles, segments, verticals, and sales regions."
   ]
  },
  {
   "cell_type": "code",
   "execution_count": 54,
   "id": "292e8dd1-df0e-4290-9f34-12276657c4e1",
   "metadata": {
    "execution_time": {
     "end_time": "2025-05-09T23:09:11.127589Z",
     "start_time": "2025-05-09T23:09:11.121262Z"
    }
   },
   "outputs": [],
   "source": [
    "--#unique_values = df['role'].unique()\n",
    "unique_values = df['job_title'].unique()\n",
    "print(unique_values)"
   ]
  },
  {
   "cell_type": "code",
   "execution_count": 75,
   "id": "7b11cc87-d4f6-4c64-b378-a743286a29be",
   "metadata": {
    "execution_time": {
     "end_time": "2025-05-09T23:54:14.108305Z",
     "start_time": "2025-05-09T23:54:14.102924Z"
    }
   },
   "outputs": [],
   "source": [
    "#--unique_values = df[sales_region'].unique()\n",
    "unique_values = cleaned_data['rep_segment'].unique()\n",
    "print(unique_values)\n"
   ]
  },
  {
   "cell_type": "code",
   "execution_count": 91,
   "id": "bbd0942a-7f52-46dc-ac4d-b5e81db1910b",
   "metadata": {
    "execution_time": {
     "end_time": "2025-05-10T00:42:10.111869Z",
     "start_time": "2025-05-10T00:42:10.106088Z"
    }
   },
   "outputs": [],
   "source": [
    "\n",
    "unique_values = cleaned_data['rep_vertical'].unique()\n",
    "print(unique_values)"
   ]
  },
  {
   "cell_type": "code",
   "execution_count": 76,
   "id": "48d8630e-6d36-4088-b748-c0f99c6faa57",
   "metadata": {
    "execution_time": {
     "end_time": "2025-05-09T23:54:36.112163Z",
     "start_time": "2025-05-09T23:54:36.106269Z"
    }
   },
   "outputs": [],
   "source": [
    "\n",
    "unique_values = cleaned_data['sales_region'].unique()\n",
    "print(unique_values)"
   ]
  },
  {
   "cell_type": "code",
   "execution_count": 88,
   "id": "40bb6920-d1ac-45bf-9a97-20246c5efb73",
   "metadata": {
    "execution_time": {
     "end_time": "2025-05-10T00:37:11.138003Z",
     "start_time": "2025-05-10T00:37:11.112833Z"
    }
   },
   "outputs": [],
   "source": [
    "# Define mappings for regions and segments\n",
    "segment_mapping = {\n",
    "    'ENTERPRISE': 'ESG',\n",
    "    'UNKNOWN': 'unknown/other',\n",
    "    'OTHER': 'unknown/other'\n",
    "}\n",
    "region_mapping = {\n",
    "    'EMEA': 'EMEAL',\n",
    "    'LATAM': 'EMEAL',\n",
    "    'None' : 'APAC'\n",
    "}\n",
    "\n",
    "job_title_mapping = {\n",
    "'Client Solutions Manager 3': 'CSM',\n",
    "'LMS ESG Account Executive 3' : 'AE',\n",
    "'LMS OSO POR Account Executive 3' : 'SPOC',\n",
    "'LMS OSO New Biz Account Executive 3' : 'AE',\n",
    " 'LMS ESG Account Executive 4' : 'AE',\n",
    "'LMS OSO POR Account Executive 2' : 'SPOC',\n",
    " 'Account Executive - Marketing Solutions'  : 'AE',\n",
    "'Client Solutions Manager 2': 'CSM',\n",
    " 'LMS OSO New Biz Account Executive 4' : 'AE',\n",
    "'Manager 1, LMS OSO New Biz AE' : 'AE',\n",
    " 'Client Solutions Manager 4' : 'CSM',\n",
    "'Manager 3, LMS OSO POR AE' : 'SPOC',\n",
    " 'LMS ESG Account Executive 5' : 'AE',\n",
    "'LMS Strategic Account Executive 4' : 'AE',\n",
    " 'Client Solutions Manager, LinkedIn Marketing Solutions': 'CSM',\n",
    " 'LMS OSO Account Executive 2' : 'AE',\n",
    "'LMS OSO Account Executive 1' : 'AE',\n",
    " 'LMS OSO Account Executive 3' : 'AE',\n",
    " 'Account Executive, LinkedIn Marketing Solutions' : 'AE',\n",
    " 'LMS OSO POR Account Executive 1' : 'SPOC',\n",
    "'Manager 2, LMS OSO POR AE' : 'SPOC',\n",
    " 'Manager 3, LMS OSO New Biz AE'  : 'AE',\n",
    "'LMS OSO POR Account Executive 4' : 'SPOC',\n",
    " 'LMS OSO New Biz Account Executive 2' : 'AE',\n",
    "'LMS ESG Account Executive 2' : 'AE',\n",
    " 'Manager 3, LMS ESG AE' : 'AE',\n",
    "'LMS Strategic Account Director' : 'AD',\n",
    " 'Manager 2, LMS ESG AE'  : 'AE',\n",
    "'Vendor Partner Lead 3' : 'Vendor Partner Lead',\n",
    " 'Key Client Solutions Manager': 'Key CSM'\n",
    "}    \n",
    "\n",
    "\n",
    "data = cleaned_data.copy()\n",
    "\n"
   ]
  },
  {
   "cell_type": "code",
   "execution_count": 89,
   "id": "7170ca7a-b075-49a7-a2a3-dc29a2b0a31b",
   "metadata": {
    "execution_time": {
     "end_time": "2025-05-10T00:37:23.149854Z",
     "start_time": "2025-05-10T00:37:23.108471Z"
    }
   },
   "outputs": [],
   "source": [
    "# Apply mappings using .loc[]\n",
    "data.loc[:, 'sales_region'] = data['sales_region'].replace(region_mapping)\n",
    "data.loc[:, 'rep_segment'] = data['rep_segment'].replace(segment_mapping)\n",
    "data.loc[:, 'job_title'] = data['job_title'].replace(job_title_mapping)\n",
    "\n",
    "# Verify changes (optional)\n",
    "print(data[['sales_region', 'rep_segment','job_title']].drop_duplicates())"
   ]
  },
  {
   "cell_type": "code",
   "execution_count": 98,
   "id": "fb8d3c54-143c-491d-bcb3-29098fa3f9d4",
   "metadata": {
    "execution_time": {
     "end_time": "2025-05-10T00:47:31.154363Z",
     "start_time": "2025-05-10T00:47:31.102670Z"
    }
   },
   "outputs": [],
   "source": [
    "group_columns = ['rep_segment','rep_vertical', 'sales_region','job_title']\n",
    "skill_means_by_group = data.groupby(group_columns)[skill_columns].mean().round(1)\n",
    "\n",
    "skill_means_by_group"
   ]
  },
  {
   "cell_type": "code",
   "execution_count": 104,
   "id": "4146f1be-9ad0-40d8-b638-2f0c21ca0273",
   "metadata": {
    "execution_time": {
     "end_time": "2025-05-10T00:58:18.146794Z",
     "start_time": "2025-05-10T00:58:18.112378Z"
    }
   },
   "outputs": [],
   "source": [
    "\n",
    "skill_means_by_group.loc['ESG']"
   ]
  },
  {
   "cell_type": "markdown",
   "id": "618d2e68-6182-4d38-a1a9-2214d24a91c1",
   "metadata": {},
   "source": [
    "### 3. Performance Comparison: Identify top and bottom performers by aggregating normalized skill scores (z-scores)."
   ]
  },
  {
   "cell_type": "code",
   "execution_count": 1,
   "id": "83a99662-4d13-4054-818d-938712efd76a",
   "metadata": {
    "execution_time": {
     "end_time": "2025-05-12T21:31:47.922773Z",
     "start_time": "2025-05-12T21:31:47.685619Z"
    }
   },
   "outputs": [],
   "source": [
    "\n",
    "for skill in skill_columns:\n",
    "    data[f'{skill}_zscore'] = (data[skill] - data[skill].mean()) / data[skill].std()\n",
    "\n",
    "# Summing z-scores to create an aggregate performance score\n",
    "data['aggregate_performance'] = data[[f'{col}_zscore' for col in skill_columns]].sum(axis=1)\n",
    "\n",
    "# Analyzing top and bottom 10 performers\n",
    "top_performers = data.nlargest(10, 'aggregate_performance')\n",
    "bottom_performers = data.nsmallest(10, 'aggregate_performance')\n",
    "\n",
    "\n",
    "\n"
   ]
  },
  {
   "cell_type": "code",
   "execution_count": null,
   "id": "7a0994d4-da09-4d92-8f04-146f5b24886b",
   "metadata": {},
   "outputs": [],
   "source": [
    "top_performers"
   ]
  },
  {
   "cell_type": "code",
   "execution_count": null,
   "id": "36b0648a-baf5-4cea-8f83-518e04420f81",
   "metadata": {},
   "outputs": [],
   "source": [
    "bottom_performers"
   ]
  },
  {
   "cell_type": "markdown",
   "id": "663d199b-4100-41a8-af85-ab7010363530",
   "metadata": {},
   "source": [
    "### 4. ANOVA Analysis checks significant differences in skill scores across roles.\n",
    "\n"
   ]
  },
  {
   "cell_type": "code",
   "execution_count": 9,
   "id": "c80bd39c-3017-4d3a-bcfd-e438a89a6845",
   "metadata": {},
   "outputs": [],
   "source": [
    "# 4. Analysis of Variance (ANOVA): Check if skill scores differ significantly by group\n",
    "from scipy.stats import f_oneway\n",
    "\n",
    "anova_results = {}\n",
    "for skill in skill_columns:\n",
    "    anova_results[skill] = f_oneway(\n",
    "        *[group[skill].dropna().values for _, group in data.groupby('role')]\n",
    "    )\n",
    "\n",
    "anova_results_df = pd.DataFrame({\n",
    "    'Skill': skill_columns,\n",
    "    'F-Statistic': [anova_results[skill].statistic for skill in skill_columns],\n",
    "    'p-Value': [anova_results[skill].pvalue for skill in skill_columns]\n",
    "})\n",
    "\n",
    "# Export ANOVA results to CSV\n",
    "#anova_results_df.to_csv(\"anova_results.csv\", index=False)\n"
   ]
  },
  {
   "cell_type": "code",
   "execution_count": null,
   "id": "ba1b8bbf-60b8-4721-9788-c09fc5569974",
   "metadata": {},
   "outputs": [],
   "source": []
  },
  {
   "cell_type": "markdown",
   "id": "f721201f-698f-4d88-aa74-3f3c33f9d078",
   "metadata": {},
   "source": [
    "### 5. Missing Data Analysis identifies missing or incomplete values within the dataset."
   ]
  },
  {
   "cell_type": "code",
   "execution_count": null,
   "id": "d6c32ff7-a42f-444c-80fe-d79683104d5c",
   "metadata": {
    "execution_time": {
     "end_time": "2025-06-11T19:11:59.673860Z",
     "start_time": "2025-06-11T19:11:59.626081Z"
    }
   },
   "outputs": [],
   "source": [
    "# 5. Identify Missing or Incomplete Data for Skills by Group Dimensions\n",
    "missing_value_summary = df[group_columns + skill_columns].isnull().sum()\n",
    "\n",
    "# Export missing value summary\n",
    "missing_value_summary.to_csv(\"missing_value_summary.csv\")\n",
    "\n",
    "# Optional: Visualize performance by group using boxplots\n",
    "for skill in skill_columns:\n",
    "    plt.figure(figsize=(12, 6))\n",
    "    sns.boxplot(x='role', y=skill, data=df)\n",
    "    plt.title(f\"{skill} Distribution by Role\")\n",
    "    plt.xticks(rotation=45)\n",
    "    plt.show()"
   ]
  },
  {
   "cell_type": "code",
   "execution_count": null,
   "id": "da91ae5d-5381-40b2-879a-100ee7b88728",
   "metadata": {},
   "outputs": [],
   "source": []
  },
  {
   "cell_type": "code",
   "execution_count": null,
   "id": "ccbc02fd-184f-458f-ab4a-27ea3f12f001",
   "metadata": {
    "execution_time": {
     "end_time": "2025-05-20T21:30:44.086461Z",
     "start_time": "2025-05-20T21:30:44.078884Z"
    }
   },
   "outputs": [],
   "source": [
    "['callid', 'fiscal_quarter', 'calldate', 'title', 'duration',\n",
    "       'employee_id', 'emailaddress', 'sales_region', 'crm_country',\n",
    "       'research_score', 'research_comments', 'highimpactquestions_score',\n",
    "       'highimpactquestions_comments', 'examinechallenges_score', 'examinechallenges_comments', 'present_impact_story', 'present_impact_story_comments', 'share_key_insights',\n",
    "       'share_key_insights_comments', 'align_unique_differentiators', 'align_unique_differentiators_comments', 'deliver_compelling_proposals', 'deliver_compelling_proposals_comments',\n",
    "       'deal_negotiation', 'deal_negotiation_comments', 'handle_objections','handle_objections_comments', 'navigate_decisionmaking_processes', 'navigate_decisionmaking_processes_comments',\n",
    "       'set_purposeful_milestones', 'set_purposeful_milestones_comments','establish_alignment_accountability','establish_alignment_accountability_comments',\n",
    "       'job_title', 'role', 'rep_segment', 'rep_vertical', 'work_location_country_name']"
   ]
  },
  {
   "cell_type": "markdown",
   "id": "79dfd271-2b1c-4f5a-94cb-bebed61d577e",
   "metadata": {},
   "source": [
    "### 6. Best In Class"
   ]
  },
  {
   "cell_type": "markdown",
   "id": "f63b0f6a-06ac-42d8-9b3b-d3a42fb29724",
   "metadata": {},
   "source": [
    "## Q2:"
   ]
  },
  {
   "cell_type": "code",
   "execution_count": 97,
   "id": "1b092dc3-d4b4-424d-8567-b4aeff070bd6",
   "metadata": {
    "execution_time": {
     "end_time": "2025-06-11T19:57:54.733164Z",
     "start_time": "2025-06-11T19:57:54.628161Z"
    }
   },
   "outputs": [],
   "source": [
    "# Define base columns to keep (informative only)\n",
    "base_cols = [\n",
    "    'callid', 'calldate', 'title', 'duration', 'emailaddress',\n",
    "    'rep_segment', 'role', 'job_title'\n",
    "]\n",
    "\n",
    "# Define skill-comment pairs to melt\n",
    "skill_scores = {\n",
    "    'research': ('research_score'),\n",
    "    'high_impact_questions': ('highimpactquestions_score'),\n",
    "    'examine_challenges': ('examinechallenges_score'),\n",
    "    \n",
    "    'present_the_impact_story': ('present_impact_story'),\n",
    "    'share_key_insights': ('share_key_insights'),\n",
    "    'align_unique_differentiators': ('align_unique_differentiators'),\n",
    "\n",
    "    'deliver_compelling_proposals': ('deliver_compelling_proposals'),\n",
    "    'prove_roi': ('prove_roi'),\n",
    "    'handle_objections': ('handle_objections'),\n",
    "    \n",
    "    'navigate_decision_making_processes': ('navigate_decisionmaking_processes'),\n",
    "    'set_purposeful_milestones': ('set_purposeful_milestones'),\n",
    "    'establish_alignment_accountability': ('establish_alignment_accountability')\n",
    "}\n",
    "\n",
    "# Melt each pair into long format\n",
    "long_df = pd.DataFrame()\n",
    "for skill, (score_col) in skill_scores.items():\n",
    "    temp = df[base_cols].copy()\n",
    "    temp['behavior'] = skill\n",
    "    temp['score'] = df[score_col]\n",
    "    long_df = pd.concat([long_df, temp], ignore_index=True)\n",
    "\n",
    "# Preview the final melted dataframe\n",
    "long_df.head()\n"
   ]
  },
  {
   "cell_type": "markdown",
   "id": "f9bbb3bf-8f7b-4aae-b511-a37e813c95a9",
   "metadata": {},
   "source": [
    "## Q3"
   ]
  },
  {
   "cell_type": "code",
   "execution_count": 55,
   "id": "637c49a7-824c-45f7-999a-8131bf8dd4c0",
   "metadata": {
    "execution_time": {
     "end_time": "2025-06-11T19:42:29.640224Z",
     "start_time": "2025-06-11T19:42:29.623751Z"
    }
   },
   "outputs": [],
   "source": [
    "# Define base columns to keep (informative only)\n",
    "base_cols = [\n",
    "    'callid', 'calldate', 'title', 'duration', 'employee_id', 'emailaddress',\n",
    "    'work_location_country_name', 'sales_region', 'rep_segment', 'rep_vertical', 'role', 'job_title'\n",
    "]\n",
    "\n",
    "# Define skill-comment pairs to melt\n",
    "skill_comment_pairs = {\n",
    "    'research': ('research_score', 'research_comments'),\n",
    "    'high_impact_questions': ('highimpactquestions_score', 'highimpactquestions_comments'),\n",
    "    'examine_challenges': ('examinechallenges_score', 'examinechallenges_comments'),\n",
    "    \n",
    "    'present_the_impact_story': ('present_impact_story', 'present_impact_story_comments'),\n",
    "    'share_key_insights': ('share_key_insights', 'share_key_insights_comments'),\n",
    "    'align_unique_differentiators': ('align_unique_differentiators', 'align_unique_differentiators_comments'),\n",
    "\n",
    "    'deliver_compelling_proposals': ('deliver_compelling_proposals', 'deliver_compelling_proposals_comments'),\n",
    "    'negotiating_deal_structure': ('deal_negotiation', 'deal_negotiation_comments'),\n",
    "    'handle_objections': ('handle_objections', 'handle_objections_comments'),\n",
    "    \n",
    "    'navigate_decision_making_processes': ('navigate_decisionmaking_processes', 'navigate_decisionmaking_processes_comments'),\n",
    "    'set_purposeful_milestones': ('set_purposeful_milestones', 'set_purposeful_milestones_comments'),\n",
    "    'establish_alignment_accountability': ('establish_alignment_accountability', 'establish_alignment_accountability_comments')\n",
    "}\n",
    "\n",
    "# Melt each pair into long format\n",
    "long_df = pd.DataFrame()\n",
    "for skill, (score_col, comment_col) in skill_comment_pairs.items():\n",
    "    temp = df[base_cols].copy()\n",
    "    temp['behavior'] = skill\n",
    "    temp['score'] = df[score_col]\n",
    "    temp['behavior_comment'] = df[comment_col]\n",
    "    long_df = pd.concat([long_df, temp], ignore_index=True)\n",
    "\n",
    "# Preview the final melted dataframe\n",
    "long_df.head()\n"
   ]
  },
  {
   "cell_type": "code",
   "execution_count": 98,
   "id": "9bfaa7e0-f25b-45cf-bc9a-c246e8be3b60",
   "metadata": {
    "execution_time": {
     "end_time": "2025-06-11T19:57:58.658593Z",
     "start_time": "2025-06-11T19:57:58.622920Z"
    }
   },
   "outputs": [],
   "source": [
    "behavior_to_skill = {\n",
    "    # Discovery / Research\n",
    "    \"research\":                      \"discovery\",\n",
    "    \"high_impact_questions\":         \"discovery\",\n",
    "    \"examine_challenges\":            \"discovery\",\n",
    "\n",
    "     # Drive Value\n",
    "    \"present_the_impact_story\":      \"drive_value\",\n",
    "    \"share_key_insights\":            \"drive_value\",\n",
    "    \"align_unique_differentiators\":  \"drive_value\",\n",
    "    \n",
    "    # Deliver Business Case\n",
    "    \"deliver_compelling_proposals\":  \"deliver_biz_case\",\n",
    "    \"prove_roi\":    \"deliver_biz_case\",\n",
    "    \"handle_objections\":             \"deliver_biz_case\",\n",
    "\n",
    "    # Gain Commitment    \n",
    "    \"navigate_decision_making_processes\": \"gain_commitment\",\n",
    "    \"set_purposeful_milestones\":     \"gain_commitment\",\n",
    "    \"establish_alignment_accountability\": \"gain_commitment\",\n",
    "}\n",
    "\n",
    "# ── 2.  Apply the mapping with `map` (fast & readable) ────────────────\n",
    "long_df[\"skill\"] = (\n",
    "    long_df[\"behavior\"]                 # existing column\n",
    "           .str.lower()                 # normalise case\n",
    "           .map(behavior_to_skill)      # look-up in dict\n",
    "           .fillna(\"Other / Unmapped\")  # fallback label\n",
    ")"
   ]
  },
  {
   "cell_type": "code",
   "execution_count": 99,
   "id": "9d32416d-00cb-4ab8-9f37-cbd19f6869b3",
   "metadata": {
    "execution_time": {
     "end_time": "2025-06-11T19:58:00.636255Z",
     "start_time": "2025-06-11T19:58:00.624306Z"
    }
   },
   "outputs": [],
   "source": [
    "long_df"
   ]
  },
  {
   "cell_type": "markdown",
   "id": "beb6a808-bb79-4019-8cea-487f86398ed8",
   "metadata": {
    "execution_time": {
     "end_time": "2025-04-23T20:50:46.638335Z",
     "start_time": "2025-04-23T20:50:46.634950Z"
    },
    "slideshow": {
     "slide_type": "slide"
    }
   },
   "source": [
    "# BIC calculation"
   ]
  },
  {
   "cell_type": "code",
   "execution_count": 100,
   "id": "77a98e15-94c8-4246-b19d-df6f0543a322",
   "metadata": {
    "execution_time": {
     "end_time": "2025-06-11T19:58:02.640158Z",
     "start_time": "2025-06-11T19:58:02.623585Z"
    }
   },
   "outputs": [],
   "source": [
    "long_df['score'].unique()"
   ]
  },
  {
   "cell_type": "code",
   "execution_count": 101,
   "id": "4d717240-a622-446e-83ac-d44941d6c5b0",
   "metadata": {
    "execution_time": {
     "end_time": "2025-06-11T19:58:03.667544Z",
     "start_time": "2025-06-11T19:58:03.625473Z"
    }
   },
   "outputs": [],
   "source": [
    "valid_scores = ['1.0', '2.0', '3.0', '4.0', '5.0', 1, 2, 3, 4, 5]\n",
    "\n",
    "df = long_df[long_df['score'].isin(valid_scores)] "
   ]
  },
  {
   "cell_type": "code",
   "execution_count": 102,
   "id": "38a55ca3-1b1a-484a-90bd-8889ab3ddd22",
   "metadata": {
    "execution_time": {
     "end_time": "2025-06-11T19:58:10.704928Z",
     "start_time": "2025-06-11T19:58:10.623589Z"
    }
   },
   "outputs": [],
   "source": [
    "# Ensure 'date' and 'score' are in the right formats\n",
    "df['calldate'] = pd.to_datetime(df['calldate'])\n",
    "#--df_filtered = df[(df['calldate'] >= '2025-01-01') & (df['calldate'] <= '2025-04-01')].copy() # & (df['rep_segment'] == 'ESG')].copy()\n",
    "df_filtered = df[(df['calldate'] >= '2024-10-01') & (df['calldate'] <= '2024-12-31') & (df['rep_segment'] == 'ESG')].copy()\n",
    "df_filtered['score'] = pd.to_numeric(df_filtered['score'], errors='coerce')\n",
    "\n",
    "# High scores only\n",
    "df_high_scores = df_filtered[df_filtered['score'] >= 4]\n",
    "\n",
    "# Count high scores per callid and skill\n",
    "high_score_counts = df_high_scores.groupby(['callid', 'skill']).size().reset_index(name='high_score_behaviors')\n",
    "\n",
    "\n",
    "best_in_class = high_score_counts[high_score_counts['high_score_behaviors'] >= 2]\n",
    "\n",
    "# Count of best in class calls per skill\n",
    "best_in_class_counts = best_in_class.groupby('skill')['callid'].nunique()\n",
    "\n",
    "# Total number of calls where each skill was evaluated\n",
    "total_calls_per_skill = df_filtered.groupby('skill')['callid'].nunique()\n",
    "\n",
    "# Final percentage\n",
    "best_in_class_percent = (best_in_class_counts / total_calls_per_skill * 100).round(2)\n",
    "\n",
    "# Display\n",
    "print(best_in_class_percent)\n"
   ]
  },
  {
   "cell_type": "code",
   "execution_count": 104,
   "id": "17fad366-02f1-460b-a58f-79442c3f3ea4",
   "metadata": {
    "execution_time": {
     "end_time": "2025-06-11T19:58:20.054860Z",
     "start_time": "2025-06-11T19:58:20.044200Z"
    }
   },
   "outputs": [],
   "source": [
    "df_filtered.head()"
   ]
  },
  {
   "cell_type": "code",
   "execution_count": 105,
   "id": "7274636b-ac1e-4443-98ba-0fe3c387a195",
   "metadata": {
    "execution_time": {
     "end_time": "2025-06-11T19:58:35.092353Z",
     "start_time": "2025-06-11T19:58:35.080896Z"
    }
   },
   "outputs": [],
   "source": [
    "# Step 4: Flag skills that are Best in Class (2+ high scores)\n",
    "best_in_class_skills = high_score_counts[high_score_counts['high_score_behaviors'] >= 2]\n",
    "\n",
    "# Step 5: Count how many skills are Best in Class per call\n",
    "bcr_skill_counts_per_call = (\n",
    "    best_in_class_skills.groupby('callid')['skill']\n",
    "    .nunique()\n",
    "    .reset_index(name='num_bcr_skills')\n",
    ")\n",
    "\n",
    "# Step 6: Flag calls that are Best in Class for all 5 skills\n",
    "bcr_skill_counts_per_call['is_best_in_class_call'] = (bcr_skill_counts_per_call['num_bcr_skills'] >= 4)\n",
    "\n",
    "# Step 7: Calculate %\n",
    "total_calls = df_filtered['callid'].nunique()\n",
    "bcr_call_count = bcr_skill_counts_per_call['is_best_in_class_call'].sum()\n",
    "bcr_call_percent = round((bcr_call_count / total_calls) * 100, 2)\n",
    "\n",
    "# Result\n",
    "print(f\"% of Calls that are Best in Class for all 5 skills: {bcr_call_percent}%\")"
   ]
  },
  {
   "cell_type": "code",
   "execution_count": 106,
   "id": "0d95c3fd-12b5-4ff9-886d-033e7eb6a811",
   "metadata": {
    "execution_time": {
     "end_time": "2025-06-11T19:58:35.833626Z",
     "start_time": "2025-06-11T19:58:35.830587Z"
    }
   },
   "outputs": [],
   "source": [
    "print(bcr_call_count)"
   ]
  },
  {
   "cell_type": "markdown",
   "id": "497a7b10-8592-4a86-bc49-e7c2eca4d34b",
   "metadata": {},
   "source": [
    "# Creating Proficiency Curves"
   ]
  },
  {
   "cell_type": "markdown",
   "id": "39c330c1-b2d4-41cd-bb63-512aac430007",
   "metadata": {},
   "source": [
    "## Skill Proficiency No Smoothing at Skill Level"
   ]
  },
  {
   "cell_type": "code",
   "execution_count": 109,
   "id": "f6bc5b70-9145-4096-a12b-0dcb7b804d0b",
   "metadata": {
    "execution_time": {
     "end_time": "2025-06-11T19:59:55.657833Z",
     "start_time": "2025-06-11T19:59:55.623894Z"
    }
   },
   "outputs": [],
   "source": [
    "\n",
    "# Step 1: Group by rep + skill and get average score\n",
    "rep_skill_avg = df_filtered.groupby(['emailaddress', 'skill'])['score'].mean().reset_index()\n",
    "\n",
    "# Step 2: Round to nearest score bucket\n",
    "rep_skill_avg['score_bucket'] = rep_skill_avg['score'].round().astype(int)\n",
    "\n",
    "# Step 3: Count number of reps per score bucket per skill\n",
    "score_dist = rep_skill_avg.groupby(['skill', 'score_bucket'])['emailaddress'].nunique().reset_index()\n",
    "score_dist.rename(columns={'emailaddress': 'rep_count'}, inplace=True)\n",
    "\n",
    "# Step 4: Normalize by total reps per skill to get %\n",
    "total_reps_per_skill = rep_skill_avg.groupby('skill')['emailaddress'].nunique().reset_index()\n",
    "total_reps_per_skill.rename(columns={'emailaddress': 'total_reps'}, inplace=True)\n",
    "score_dist = score_dist.merge(total_reps_per_skill, on='skill')\n",
    "score_dist['rep_percent'] = score_dist['rep_count'] / score_dist['total_reps'] * 100\n",
    "\n",
    "# Step 5: Fill missing score buckets for each skill\n",
    "full_range = pd.DataFrame({'score_bucket': range(1, 6)})\n",
    "skills = score_dist['skill'].unique()\n",
    "smoothed_data = []\n",
    "\n",
    "for skill in skills:\n",
    "    df_skill = score_dist[score_dist['skill'] == skill].merge(full_range, on='score_bucket', how='right')\n",
    "    df_skill['skill'] = skill\n",
    "    df_skill['rep_percent'] = df_skill['rep_percent'].fillna(0)\n",
    "    smoothed_data.append(df_skill)\n",
    "\n",
    "score_dist_full = pd.concat(smoothed_data)"
   ]
  },
  {
   "cell_type": "markdown",
   "id": "4ff89b5a-f3ea-4192-a6f3-57b961b8d7ae",
   "metadata": {},
   "source": [
    "## Skill Proficiency Smoothing at Skill Level"
   ]
  },
  {
   "cell_type": "code",
   "execution_count": 110,
   "id": "2ba8a841-21d9-42cb-aefd-9270ca9d3a09",
   "metadata": {
    "execution_time": {
     "end_time": "2025-06-11T20:00:00.134111Z",
     "start_time": "2025-06-11T19:59:59.987900Z"
    }
   },
   "outputs": [],
   "source": [
    "# Step 6: Plot with smoothing–\n",
    "plt.figure(figsize=(10, 6))\n",
    "\n",
    "palette = sns.color_palette(\"Blues\", n_colors=4)\n",
    "for i, skill in enumerate(skills):\n",
    "    df_skill = score_dist_full[score_dist_full['skill'] == skill].sort_values('score_bucket')\n",
    "    x = df_skill['score_bucket']\n",
    "    y = df_skill['rep_percent']\n",
    "    \n",
    "    # Interpolation for smooth curve\n",
    "    x_new = np.linspace(1, 5, 300)\n",
    "    spline = make_interp_spline(x, y, k=3)\n",
    "    y_smooth = spline(x_new)\n",
    "    y_smooth = np.clip(y_smooth, 0, 100)  # Keep % within 0–100\n",
    "\n",
    "    plt.plot(x_new, y_smooth, label=skill, color=palette[i])\n",
    "\n",
    "# Format plot\n",
    "plt.title('Smoothed Skill Proficiency Curves')\n",
    "plt.xlabel('Scores')\n",
    "plt.ylabel('% Proficiency/Rep')\n",
    "plt.xticks([1, 2, 3, 4, 5])\n",
    "plt.yticks(np.arange(0, 101, 20))\n",
    "plt.ylim(0, 100)\n",
    "plt.xlim(1,5)\n",
    "plt.grid(axis='x', linestyle=':', alpha=0.5)\n",
    "plt.legend(title='Skill', bbox_to_anchor=(1.05, 1), loc='upper left')\n",
    "plt.tight_layout()\n",
    "plt.show()"
   ]
  },
  {
   "cell_type": "markdown",
   "id": "e84fb54e-8d96-47ed-a6af-0d7a0a554c42",
   "metadata": {},
   "source": [
    "## Skill Proficiency Smoothing - At Behavior Level"
   ]
  },
  {
   "cell_type": "code",
   "execution_count": 112,
   "id": "de76b8c7-cd6b-4df9-bed8-3e727c89fffe",
   "metadata": {
    "execution_time": {
     "end_time": "2025-06-11T20:01:05.348534Z",
     "start_time": "2025-06-11T20:01:04.693027Z"
    },
    "scrolled": true
   },
   "outputs": [],
   "source": [
    "\n",
    "# Step 1: Calculate the percentage of times an employee scored each specific score (1, 2, 3, 4, 5) by behavior and skill\n",
    "score_percentages = (\n",
    "    df_filtered.groupby(['emailaddress', 'score', 'behavior', 'skill'])  # Include 'skill' in the groupby\n",
    "    .size()  # Count occurrences of each score for each employee, behavior, and skill\n",
    "    .reset_index(name='score_count')  # Create a new column for the count of each score\n",
    ")\n",
    "\n",
    "# Calculate the total number of calls for each employee by behavior and skill\n",
    "total_calls = (\n",
    "    df_filtered.groupby(['emailaddress', 'behavior', 'skill'])  # Group by employee, behavior, and skill\n",
    "    .size()\n",
    "    .reset_index(name='total_calls')  # Create a column for the total number of calls per employee, behavior, and skill\n",
    ")\n",
    "\n",
    "# Merge the total calls with the score percentages\n",
    "score_percentages = score_percentages.merge(total_calls, on=['emailaddress', 'behavior', 'skill'], how='left')\n",
    "\n",
    "# Calculate the percentage of each score for each employee and behavior\n",
    "score_percentages['score_percentage'] = (score_percentages['score_count'] / score_percentages['total_calls']) * 100\n",
    "\n",
    "# Step 2: Ensure all scores (1, 2, 3, 4, 5) are included for each employee, behavior, and skill\n",
    "# Create a cartesian product of all employee_ids, behaviors, skills, and scores (1, 2, 3, 4, 5)\n",
    "all_combinations = pd.DataFrame(\n",
    "    list(itertools.product(score_percentages['emailaddress'].unique(), df_filtered['behavior'].unique(), df_filtered['skill'].unique(), [1, 2, 3, 4, 5])),\n",
    "    columns=['emailaddress', 'behavior', 'skill', 'score']\n",
    ")\n",
    "\n",
    "# Merge the all_combinations dataframe with the score_percentages\n",
    "score_percentages_complete = all_combinations.merge(score_percentages, on=['emailaddress', 'behavior', 'skill', 'score'], how='left')\n",
    "\n",
    "# If an employee didn't get a particular score for a behavior and skill, set its percentage to 0\n",
    "score_percentages_complete['score_percentage'].fillna(0, inplace=True)\n",
    "\n",
    "# Step 3: Average the percentages of each score across all employees, grouped by behavior and skill\n",
    "average_score_percentages = (\n",
    "    score_percentages_complete.groupby(['skill', 'behavior', 'score'])['score_percentage']\n",
    "    .mean()\n",
    "    .reset_index()\n",
    "    .rename(columns={'score_percentage': 'average_score_percentage'})\n",
    ")\n",
    "\n",
    "\n",
    "# Remove rows with missing score_percentage (NaN values) and impute with 0\n",
    "score_percentages_complete['score_percentage'].fillna(0, inplace=True)\n",
    "\n",
    "# Loop over each unique skill\n",
    "for skill in average_score_percentages['skill'].unique():\n",
    "    # Filter data for the specific skill\n",
    "    skill_data = average_score_percentages[average_score_percentages['skill'] == skill]\n",
    "    \n",
    "    # Get the unique behaviors for this specific skill\n",
    "    valid_behaviors = skill_data['behavior'].unique()\n",
    "    \n",
    "    # Create the plot for this skill\n",
    "    plt.figure(figsize=(10, 6))\n",
    "\n",
    "    # Loop over each behavior for the current skill\n",
    "    for behavior in valid_behaviors:\n",
    "        # Filter data for the current behavior within the specific skill\n",
    "        behavior_data = skill_data[skill_data['behavior'] == behavior]\n",
    "\n",
    "        # Check if behavior_data is empty (skip if no data for this behavior)\n",
    "        if behavior_data.empty:\n",
    "            continue\n",
    "\n",
    "        # Extract x and y values for the plot\n",
    "        x = behavior_data['score']\n",
    "        y = behavior_data['average_score_percentage']\n",
    "\n",
    "        # Skip behaviors with a score_percentage of 0 (irrelevant behavior for the current skill)\n",
    "        if (y == 0).all():\n",
    "            continue\n",
    "\n",
    "        # Smooth the curve\n",
    "        x_smooth = np.linspace(1, 5, 300)\n",
    "\n",
    "        if len(x.unique()) >= 3:  # spline needs at least 3 points\n",
    "            spline = make_interp_spline(x, y, k=2)  # use k=2 for small sets\n",
    "            y_smooth = spline(x_smooth)\n",
    "            y_smooth = np.clip(y_smooth, 0, 100)  # make sure % stays in bounds\n",
    "            plt.plot(x_smooth, y_smooth, label=behavior)\n",
    "        else:\n",
    "            # Fallback to raw points if not enough to smooth\n",
    "            plt.plot(x, y, marker='o', label=behavior)\n",
    "\n",
    "    # Set plot labels and title\n",
    "    plt.title(f'Skill Proficiency Breakdown by Behavior: {skill}')\n",
    "    plt.xlabel('Average Score (Rounded)')\n",
    "    plt.ylabel('% of Reps')\n",
    "    plt.xticks([1, 2, 3, 4, 5])\n",
    "    plt.yticks(np.arange(0, 101, 20))\n",
    "    plt.ylim(0, 100)\n",
    "    plt.xlim(1, 5)\n",
    "\n",
    "    # Add gridlines for clarity\n",
    "    plt.grid(axis='x', linestyle=':', alpha=0.5)\n",
    "\n",
    "    # Add a legend for behaviors\n",
    "    plt.legend(title='Behavior', bbox_to_anchor=(1.05, 1), loc='upper left')\n",
    "\n",
    "    # Ensure tight layout for better spacing\n",
    "    plt.tight_layout()\n",
    "\n",
    "    # Show the plot\n",
    "    plt.show()\n"
   ]
  },
  {
   "cell_type": "markdown",
   "id": "c3b17b26-2452-41f5-aaea-83e4fdd79002",
   "metadata": {},
   "source": [
    "# Export Data to Excel"
   ]
  },
  {
   "cell_type": "code",
   "execution_count": 18,
   "id": "778e134b-3d67-41f2-a067-64c4ecaff6cf",
   "metadata": {
    "execution_time": {
     "end_time": "2025-05-06T20:20:37.556503Z",
     "start_time": "2025-05-06T20:20:37.549924Z"
    }
   },
   "outputs": [],
   "source": [
    "import base64\n",
    "import os\n",
    "from IPython.display import HTML\n",
    "def generate_excel_download_link(df, filename=\"skill_proficiency_distribution.xlsx\", title = \"Download Excel file\", max_no_rows=65530):\n",
    "    '''\n",
    "    Returns a download link for the report data to be shown in jupyter notebook.\n",
    "    Capped at max_no_rows due to excel limitation of not allowing more than max_no_rows urls in a single spreadsheet.\n",
    "    '''\n",
    "    if len(df)>max_no_rows:\n",
    "        raise NameError(f'Number of rows exceeded: {len(df)}')\n",
    "    df.to_excel(filename, index=False) # Save file temporarily (take advantage of pandas excel writer)\n",
    "    with open(filename, 'rb') as f: # Open file in binary to convert to base64\n",
    "        f_binary = f.read()\n",
    "        b64 = base64.encodebytes(f_binary)\n",
    "        payload = b64.decode()\n",
    "    os.remove(filename) # Cleanup file\n",
    "    html = '<a download=\"{filename}\" href=\"data:text;base64,{payload}\" target=\"_blank\">{title}</a>'\n",
    "    html = html.format(payload=payload,title=title,filename=filename)\n",
    "    return HTML(html)"
   ]
  },
  {
   "cell_type": "code",
   "execution_count": null,
   "id": "3c199787-f0bf-4396-b98a-c92bb6441c0d",
   "metadata": {},
   "outputs": [],
   "source": []
  },
  {
   "cell_type": "code",
   "execution_count": 19,
   "id": "09e13110-f402-418e-8efe-c04d32e2e33a",
   "metadata": {
    "execution_time": {
     "end_time": "2025-05-06T20:20:37.576853Z",
     "start_time": "2025-05-06T20:20:37.558753Z"
    }
   },
   "outputs": [],
   "source": [
    "def create_download_links(df, filename=\"skill_proficiency_distribution.xlsx\", title = \"Download Excel file\", max_no_rows=65530):\n",
    "    '''\n",
    "    Returns a download link for the report data to be shown in jupyter notebook.\n",
    "    Splits the report into buckets when number of rows exceeds max_no_rows.\n",
    "  \n",
    "    Returns\n",
    "    -------\n",
    "    links: list\n",
    "        To see in jupyter, run:\n",
    "            > for link in create_download_links(df, filename=\"my_report.xlsx\"):\n",
    "            >     display(link)\n",
    "    '''\n",
    "    filename_stub = filename.replace(\".xlsx\",\"\")\n",
    "    links = []\n",
    "    \n",
    "    if len(df)>max_no_rows:\n",
    "        chunks = list(chunker(df, max_no_rows))\n",
    "        print(f'Number of rows exceeded, splitting report into {len(chunks)} files')\n",
    "        for i,chunk in enumerate(chunks):\n",
    "            links.append(generate_excel_download_link(chunk, filename=f'{filename_stub}_{i}.xlsx', title = f'{title} - Partition {i}', max_no_rows=max_no_rows))\n",
    "    else:\n",
    "        links.append(generate_excel_download_link(df, filename = filename, title = title, max_no_rows=max_no_rows))\n",
    "    return links"
   ]
  },
  {
   "cell_type": "code",
   "execution_count": 20,
   "id": "129ca779-d31d-49d9-b9fa-3ec280d33837",
   "metadata": {
    "execution_time": {
     "end_time": "2025-05-06T20:20:37.623533Z",
     "start_time": "2025-05-06T20:20:37.579639Z"
    }
   },
   "outputs": [],
   "source": [
    "score_dist"
   ]
  },
  {
   "cell_type": "code",
   "execution_count": 25,
   "id": "0b76ff5b-8d53-422b-a786-5cb018f30c3e",
   "metadata": {
    "execution_time": {
     "end_time": "2025-05-02T20:29:25.903658Z",
     "start_time": "2025-05-02T20:29:25.767169Z"
    }
   },
   "outputs": [],
   "source": [
    "for link in create_download_links(score_dist['rep_percent']):\n",
    "    display(link)"
   ]
  },
  {
   "cell_type": "code",
   "execution_count": null,
   "id": "abe3e1f3-8ed7-46c2-92e5-eb1ce9965822",
   "metadata": {},
   "outputs": [],
   "source": []
  },
  {
   "cell_type": "code",
   "execution_count": null,
   "id": "9dfc4ca9-b989-4079-a158-293990575b78",
   "metadata": {},
   "outputs": [],
   "source": []
  },
  {
   "cell_type": "code",
   "execution_count": null,
   "id": "e84360ce-f50f-4ec1-92c4-030e35053f09",
   "metadata": {},
   "outputs": [],
   "source": []
  },
  {
   "cell_type": "code",
   "execution_count": null,
   "id": "44585ea8-841a-4d80-b1a7-a7964edceeba",
   "metadata": {},
   "outputs": [],
   "source": []
  },
  {
   "cell_type": "code",
   "execution_count": null,
   "id": "0935df5b-e5f8-4460-a007-ba0412a124c3",
   "metadata": {},
   "outputs": [],
   "source": [
    "import numpy as np\n",
    "import matplotlib.pyplot as plt\n",
    "\n",
    "# Data provided\n",
    "skills = ['Present Impact Story', 'Share Key Insights', 'Align Unique Differentiators']\n",
    "percentages = [\n",
    "    [36, 9, 5, 38, 13, 0],  # Present Impact Story\n",
    "    [32, 0, 7, 16, 40, 5],  # Share Key Insights\n",
    "    [31, 2, 11, 25, 28, 2]  # Align Unique Differentiators\n",
    "]\n",
    "\n",
    "# Score categories (0-5) and corresponding colors based on the attached image\n",
    "colors = ['#FFFFFF', '#DFF2D8', '#A6D285', '#49814B', '#000000', '#444444']  # '#444444' is the new color added\n",
    "\n",
    "# Create the figure and axis\n",
    "fig, ax = plt.subplots(figsize=(12, 6))\n",
    "\n",
    "# Plot one horizontal bar per skill\n",
    "for skill_idx, skill in enumerate(skills):\n",
    "    start = 0  # Initialize starting point for stacking\n",
    "    for score_idx, percentage in enumerate(percentages[skill_idx]):\n",
    "        bar = ax.barh(\n",
    "            skill,  # Y-axis label (skill)\n",
    "            percentage,  # Width of the bar (percentage value for the score)\n",
    "            left=start,  # Starting point for this segment\n",
    "            color=colors[score_idx],  # Color for the current score category\n",
    "            edgecolor='black',  # Optional: Add edges for better visual separation\n",
    "            label=f'Score {score_idx}' if skill_idx == 0 else None  # Add legend only for the first skill\n",
    "        )\n",
    "\n",
    "        # Add percentage text label\n",
    "        if percentage > 0:  # Only display text for non-zero percentages\n",
    "            ax.text(\n",
    "                start + percentage / 2,  # Center the text within the bar\n",
    "                skill,  # Corresponding skill on Y-axis\n",
    "                f'{percentage}%',  # Text to display\n",
    "                va='center',  # Vertically center the text\n",
    "                ha='center',  # Horizontally center the text\n",
    "                fontsize=8  # Adjust font size if needed\n",
    "            )\n",
    "        start += percentage  # Update starting point for next segment\n",
    "\n",
    "# Optional: Add legend\n",
    "handles, labels = ax.get_legend_handles_labels()\n",
    "by_label = dict(zip(labels, handles))  # Remove duplicate labels\n",
    "ax.legend(by_label.values(), by_label.keys(), title='Scores', bbox_to_anchor=(1.05, 1), loc='upper left')\n",
    "\n",
    "# Set chart title and labels\n",
    "ax.set_title('Skill Distribution by Scoring Categories')\n",
    "ax.set_xlabel('Percentage of calls')\n",
    "ax.set_ylabel('Skills')\n",
    "\n",
    "# Adjust layout and display\n",
    "plt.tight_layout()\n",
    "plt.show()"
   ]
  }
 ],
 "metadata": {
  "darwin": {
   "resource_id": 14985815,
   "username": "chhsharm"
  },
  "kernelspec": {
   "display_name": "Python 3 (ipykernel)",
   "language": "python",
   "name": "python3"
  },
  "language_info": {
   "codemirror_mode": {
    "name": "ipython",
    "version": 3
   },
   "file_extension": ".py",
   "mimetype": "text/x-python",
   "name": "python",
   "nbconvert_exporter": "python",
   "pygments_lexer": "ipython3",
   "version": "3.10.2"
  }
 },
 "nbformat": 4,
 "nbformat_minor": 5
}