{
 "cells": [
  {
   "cell_type": "markdown",
   "id": "61ae769f-2300-487f-ba0f-3547ff3842d0",
   "metadata": {
    "tags": []
   },
   "source": [
    "## Set up Notebook (Dependencies, Packages, Certs)"
   ]
  },
  {
   "cell_type": "markdown",
   "id": "30460807-07ab-4340-92f9-1f2225cde9e8",
   "metadata": {
    "tags": []
   },
   "source": [
    "### Install Dependencies and Packages"
   ]
  },
  {
   "cell_type": "code",
   "execution_count": 1,
   "id": "614147dc-89db-4878-a5b5-121049eb85c9",
   "metadata": {
    "execution_time": {
     "end_time": "2024-12-24T22:57:26.172719Z",
     "start_time": "2024-12-24T22:51:34.614602Z"
    },
    "scrolled": true,
    "tags": []
   },
   "outputs": [],
   "source": [
    "!/home/jovyan/scratchpad/bin/pip install distgradle \n",
    "!/home/jovyan/scratchpad/bin/pip install lipy-langchain==1.2.1\n",
    "!/home/jovyan/scratchpad/bin/pip install langchain==0.2.0\n",
    "\n",
    "!/home/jovyan/scratchpad/bin/pip install pandas\n",
    "!/home/jovyan/scratchpad/bin/pip install numpy\n",
    "!/home/jovyan/scratchpad/bin/pip install urllib3\n",
    "!/home/jovyan/scratchpad/bin/pip install ipywidgets\n",
    "!/home/jovyan/scratchpad/bin/pip install pathlib\n",
    "!/home/jovyan/scratchpad/bin/pip install openpyxl\n",
    "!/home/jovyan/scratchpad/bin/pip install matplotlib"
   ]
  },
  {
   "cell_type": "code",
   "execution_count": 36,
   "id": "727c6ab1-3d19-4b0f-be0e-1b129a3e4867",
   "metadata": {
    "execution_time": {
     "end_time": "2024-12-21T05:36:53.624314Z",
     "start_time": "2024-12-21T05:36:53.620959Z"
    },
    "tags": []
   },
   "outputs": [],
   "source": [
    "## Code to restart kernel if needed.\n",
    "\n",
    "#import os\n",
    "#os._exit(0)"
   ]
  },
   {
   "cell_type": "markdown",
   "id": "30460807-07ab-4340-92f9-1f2225cde9e8",
   "metadata": {
    "tags": []
   },
   "source": [
    "### Install Libraries"
   ]
  },
{
   "cell_type": "code",
   "execution_count": 2,
   "id": "6feeee40-5818-40df-8065-02e4e074c226",
   "metadata": {
    "execution_time": {
     "end_time": "2024-12-24T22:57:28.881254Z",
     "start_time": "2024-12-24T22:57:26.174749Z"
    },
    "tags": []
   },
   "outputs": [],
   "source": [
    "import pandas as pd\n",
    "import numpy as np\n",
    "import sys\n",
    "import pkg_resources\n",
    "from langchain_core.messages import HumanMessage, SystemMessage\n",
    "from linkedin.langchain.chat_models.proxied_gpt_chat import ProxiedGPTChat\n",
    "from langchain_core.messages import AIMessage, FunctionMessage\n",
    "from rich.pretty import pprint\n",
    "import asyncio\n",
    "import time\n",
    "import random"
   ]
  },
  {
   "cell_type": "markdown",
   "id": "f7a9ef53-57bc-403b-8edc-97f452c871b3",
   "metadata": {
    "tags": []
   },
   "source": [
    "## Load Data"
   ]
  },
  {
   "cell_type": "code",
   "execution_count": 3,
   "id": "c07b9025-d930-4a08-ba96-8725ff44bf24",
   "metadata": {
    "execution_time": {
     "end_time": "2024-12-24T22:57:33.484645Z",
     "start_time": "2024-12-24T22:57:28.883245Z"
    },
    "tags": []
   },
   "outputs": [],
   "source": [
    "!/home/jovyan/scratchpad/bin/pip install fsspec\n",
    "!/home/jovyan/scratchpad/bin/pip install pyarrow\n",
    "import pyarrow\n",
    "!/home/jovyan/scratchpad/bin/pip install hdfsmagic\n"
   ]
  },
   {
   "cell_type": "code",
   "outputs": [],
   "source": [
    "import hdfsmagic.magics\n",
    "%load_ext hdfsmagic.magics\n",
    "%manage_hdfs -c 'holdem'"
   ]
  },
  {
   "cell_type": "code",
   "execution_count": 8,
   "id": "9926badc-d3ef-45c9-b967-1cb492c2d6bc",
   "metadata": {
    "execution_time": {
     "end_time": "2024-12-24T22:57:52.981561Z",
     "start_time": "2024-12-24T22:57:47.651546Z"
    },
    "tags": []
   },
   "outputs": [],
   "source": [
    "# Code to LOAD CSV file from hdfs\n",
    "df = pd.read_csv('hdfs://ltx1-holdemnn01.grid.linkedin.com:9000/user/gtme/xyz.csv')\n"
   ]
  },
  {
   "cell_type": "code",
   "execution_count": 9,
   "id": "a911ac40-5e84-44fc-8360-40b68960824e",
   "metadata": {
    "execution_time": {
     "end_time": "2024-12-24T22:57:52.986618Z",
     "start_time": "2024-12-24T22:57:52.983473Z"
    },
    "tags": []
   },
   "outputs": [],
   "source": [
    "df.reset_index(drop=True, inplace=True)"
   ]
  },
  {
   "cell_type": "code",
   "execution_count": 10,
   "id": "f0a9cbd8-dbb3-43c9-96aa-bb1e791b29a5",
   "metadata": {
    "execution_time": {
     "end_time": "2024-12-24T22:57:53.004574Z",
     "start_time": "2024-12-24T22:57:52.989991Z"
    },
    "tags": []
   },
   "outputs": [],
   "source": [
    "df.head()"
   ]
  },
  {
   "cell_type": "code",
   "execution_count": 11,
   "id": "15481ecd-c621-494b-8a30-9a7960ea4b3b",
   "metadata": {
    "execution_time": {
     "end_time": "2024-12-24T22:57:53.009912Z",
     "start_time": "2024-12-24T22:57:53.006184Z"
    },
    "tags": []
   },
   "outputs": [],
   "source": [
    "df['callid'].nunique()"
   ]
  },
  {
   "cell_type": "code",
   "execution_count": 16,
   "id": "ab727c8f-3345-4181-a56a-61463487b513",
   "metadata": {
    "execution_time": {
     "end_time": "2024-12-24T23:03:17.502965Z",
     "start_time": "2024-12-24T23:03:15.616396Z"
    }
   },
   "outputs": [],
   "source": [
    "df = df.drop(columns=['business_unit', 'title','concatenated_text_wnl','concatenated_speaker_text_wnl']) # just need callid and trancript\n",
    "df = df.drop_duplicates()"
   ]
  },
  {
   "cell_type": "code",
   "execution_count": 13,
   "id": "92f823d8-f3f7-404c-a20c-af27f386abc9",
   "metadata": {
    "execution_time": {
     "end_time": "2024-12-24T22:57:53.266635Z",
     "start_time": "2024-12-24T22:57:53.262069Z"
    }
   },
   "outputs": [],
   "source": [
    "df['callid'].nunique()"
   ]
  },
  {
   "cell_type": "code",
   "execution_count": 17,
   "id": "1952928e-dbf0-4ca8-9540-5703cf8cee2a",
   "metadata": {
    "execution_time": {
     "end_time": "2024-12-24T23:04:02.668237Z",
     "start_time": "2024-12-24T23:04:02.658332Z"
    },
    "tags": []
   },
   "outputs": [],
   "source": [
    "# selecting few rows only\n",
    "options = [104075876899206902, 1069536721109595909, 1088181594808946578, 1104996189068257685, 1183175828053636644] \n",
    "  \n",
    "df = df[df['callid'].isin(options)]\n",
    "df.reset_index(drop=True, inplace=True)\n",
    "df.head()"
   ]
  },
  {
   "cell_type": "markdown",
   "id": "dd772532-6327-4d37-b17b-bb7ab2b03a18",
   "metadata": {
    "tags": []
   },
   "source": [
    "## Define Model and Prompt Parameters"
   ]
  },
  {
   "cell_type": "markdown",
   "id": "33fd7ce6-bced-4e45-ad74-c48e937df2f4",
   "metadata": {},
   "source": [
    "### Model Parameters"
   ]
  },
  {
   "cell_type": "code",
   "execution_count": 19,
   "id": "ac55530c-d94b-4ac2-b23b-9deef894ff8d",
   "metadata": {
    "execution_time": {
     "end_time": "2024-12-24T23:06:03.549147Z",
     "start_time": "2024-12-24T23:05:58.716831Z"
    }
   },
   "outputs": [],
   "source": [
    "!hdfs dfs -get $HOLDEM_PATH/user/gtme/certificates_pj/identity.cert /home/jovyan/\n",
    "!hdfs dfs -get $HOLDEM_PATH/user/gtme/certificates_pj/identity.key /home/jovyan/"
   ]
  },
  {
   "cell_type": "code",
   "execution_count": 20,
   "id": "4e0b9c57-5f0d-49e0-9e68-26727dd937f9",
   "metadata": {
    "execution_time": {
     "end_time": "2024-12-24T23:06:11.015651Z",
     "start_time": "2024-12-24T23:06:11.012746Z"
    },
    "tags": []
   },
   "outputs": [],
   "source": [
    "resource_id=\"gwc-generativeai-aoai-001\"\n",
    "deployment_id=\"GBO-paygo-gpt4o\"\n",
    "temperature=0.1\n",
    "max_tokens=1000\n",
    "#response_format=\"json_object\""
   ]
  },
  {
   "cell_type": "markdown",
   "id": "2b0a9241-147b-49e9-ade1-be020991997d",
   "metadata": {},
   "source": [
    "### System Message"
   ]
  },
  {
   "cell_type": "code",
   "execution_count": 32,
   "id": "301e0987-8f65-40e3-9adf-d545d72ba125",
   "metadata": {
    "execution_time": {
     "end_time": "2024-12-24T23:10:10.133820Z",
     "start_time": "2024-12-24T23:10:10.120595Z"
    },
    "tags": []
   },
   "outputs": [],
   "source": [
    "system_message = ''' \n",
    "\n",
    "\n",
    "You are a Sales Manager responsible for identifying 5 sales skills demonstrated by sales reps in customer conversations. You have expert knowledge of B2B sales cycles, customer experience, and product features for LinkedIn Talent Solutions. Here are examples of products that fall under LinkedIn Talent Solutions: LinkedIn Recruiter is a hiring platform to quickly source, connect with and manage qualified candidates; LinkedIn Jobs allow customers to post open roles on LinkedIn and easily target, prioritize and manage qualified applicants; LinkedIn Career Pages are media-rich pages to tell the story of customers' companies, drive awareness and spotlight job opportunities. \n",
    "You are provided with transcripts of recorded sales calls. Each transcript includes dialogue between a seller and a customer. \n",
    "\n",
    "\n",
    "SALES SKILL DEFINITIONS: \n",
    "\n",
    "Skill #1. Discovery: Learn your customer's business, priorities, and challenges. There are three sub skills to this skill: \n",
    "a) Research: Conduct research on the customer's industry, company, persona, and account to inform your approach and establish credibility. \n",
    "b) High-Impact Questions: Ask layered, open-ended questions that demonstrate curiosity and active listening to uncover customer objectives and challenges. \n",
    "c) Examine Challenges: Identify, quantify, and implicate the pain of the customer maintaining the status quo, to qualify opportunities and drive urgency. \n",
    "\n",
    "RUBRIC SCORING CRITERIA: \n",
    "\n",
    "1. Research:\n",
    "   - 0 (Not Relevant): Discovery is not relevant to this type of sales call\n",
    "   - 1 (Poor): No evidence of prior research on the customer's industry, company, or persona.\n",
    "   - 2 (Needs Improvement): Some general or vague research is mentioned, but it's not specific to the customer's situation or relevant to the conversation.\n",
    "   - 3 (Adequate): Rep references relevant customer data (e.g., company size, industry trends) but does not tie it to the conversation or lacks depth.\n",
    "   - 4 (Good): Rep clearly demonstrates a strong understanding of the customer's industry, company, or persona and ties this knowledge into the conversation to establish credibility.\n",
    "   - 5 (Excellent): Rep provides deep, nuanced insights about the customer's business, incorporating recent developments and using them to strategically position LinkedIn’s offerings.\n",
    "\n",
    "2. High-Impact Questions:\n",
    "   - 0 (Not Relevant): Discovery is not relevant to this type of sales call\n",
    "   - 1 (Poor): No open-ended questions are asked, or questions are irrelevant to the customer’s situation.\n",
    "   - 2 (Needs Improvement): The rep asks mostly closed-ended questions or generic open-ended ones that don’t encourage deep discussion.\n",
    "   - 3 (Adequate): The rep asks open-ended questions that encourage some discussion, but they may be basic or not targeted toward uncovering deeper needs.\n",
    "   - 4 (Good): The rep asks layered, open-ended questions that encourage deeper insights, helping to clarify the customer's goals and challenges.\n",
    "   - 5 (Excellent): The rep asks powerful, high-impact questions that not only clarify the customer's goals and challenges but also uncover underlying motivations, decision drivers, and critical pain points.\n",
    "\n",
    "3. Examine Challenges:\n",
    "   - 0 (Not Relevant): Discovery is not relevant to this type of sales call\n",
    "   - 1 (Poor): No attempt is made to explore or understand the customer’s challenges.\n",
    "   - 2 (Needs Improvement): The rep identifies surface-level challenges but does not probe further or connect them to potential implications of maintaining the status quo.\n",
    "   - 3 (Adequate): The rep recognizes key challenges but does not fully explore the urgency or potential consequences of maintaining the status quo.\n",
    "   - 4 (Good): The rep examines the customer's challenges in detail, discussing the implications and potential consequences of inaction, which helps to create some urgency.\n",
    "   - 5 (Excellent): The rep thoroughly implicates the pain of maintaining the status quo, quantifying potential costs or lost opportunities, and creates a compelling case for change.\n",
    "\n",
    "\n",
    "Skill #2.Drive Value: Identify and demonstrate LinkedIn’s potential or actual impact to the customer’s business. There are three subparts to this skill: \n",
    "a) Present the Impact Story: Illustrate how LinkedIn solutions deliver value and solve the Customer's challenges. \n",
    "b) Share Key Insights: Illuminate compelling reasons for the customer to care and take action\n",
    "c) Align Unique Differentiators: Align differentiators with the customer's decision criteria and the objectives they want to achieve.\n",
    "\n",
    "RUBRIC SCORING CRITERIA: \n",
    "\n",
    "1. Present the Impact Story:\n",
    "   - 0 (Not Relevant): Drive Value is not relevant to this type of sales call\n",
    "   - 1 (Poor): Does not demo or present standard LinkedIn features or benefits, even if it is relevant\n",
    "   - 2 (Needs Improvement): Ineffectively demos or presents standard LinkedIn features or benefits\n",
    "   - 3 (Adequate): Effectively demos or presents standard LinkedIn features or benefits\n",
    "   - 4 (Good): Demos or presents only the LinkedIn features or benefits that the customer cares about. Engages the audience, using storytelling and/or executive presentation techniques\n",
    "   - 5 (Excellent): Comfortably adapts demos or presentations in-the-moment based on real time feedback to ensure the customer is getting what they need\n",
    "\n",
    "2. Share Key Insights:\n",
    "   - 0 (Not Relevant): Drive Value is not relevant to this type of sales call\n",
    "   - 1 (Poor): Does not share insights or data points when they would be beneficial\n",
    "   - 2 (Needs Improvement): Shares irrelevant insights or data points\n",
    "   - 3 (Adequate): Shares key internal or external data points that demonstrate the value of LinkedIn solution\n",
    "   - 4 (Good): Translates data points to insights.\n",
    "   - 5 (Excellent): Share insights that not only directly demonstrate the value of LinkedIn solutions, but that position the rep as a valuable partner\n",
    "\n",
    "3. Align Unique Differentiators:\n",
    "   - 0 (Not Relevant): Drive Value is not relevant to this type of sales call\n",
    "   - 1 (Poor): Not able to articular how the customer defines and measures “value”\n",
    "   - 2 (Needs Improvement): Poorly articulates value to the customer\n",
    "   - 3 (Adequate): Able to articulate how the customer defines and measures “value”\n",
    "   - 4 (Good): Speaks to LinkedIn’s solutions using the customer’s own language and metrics\n",
    "   - 5 (Excellent): Connects LinkedIn’s solutions to the customer’s higher-level business goals and metrics.\n",
    "\n",
    "Skill #3. Multi-Threading:Identify Key Stakeholders across different levels in an organization and gain an understanding of the internal path to key players and decision-maker(s)\n",
    "RUBRIC SCORING CRITERIA: \n",
    "   - 0 (Not Relevant): Multi-Threading is not relevant to this type of sales call.\n",
    "   - 1 (Poor):Rep does not attempt to identify key stakeholder or decision maker. \n",
    "   - 2 (Needs Improvement): Rep makes minimal effort to identify key stakeholders and does not appear to understand roles or influences of stakeholders within the organization.\n",
    "   - 3 (Adequate): Rep asks questions to identify different stakeholders and decision makers but often misses relation building opportunities with critical players. \n",
    "   - 4 (Good): The individual identifies some key stakeholders across different levels within the organization and demonstrates a good understanding of the roles, goals, and influences of the stakeholders.\n",
    "   - 5 (Excellent): Rep identifies key stakeholders and demonstrates deep understanding of the internal path to decision-makers with well-tailored communication.  \n",
    " \n",
    "Skill #4. Deliver the Business Case: Communicate a compelling case to win the business. There are three sub-skills to this skill: \n",
    "a) Deliver compelling proposals: Highlight the true value of an investment & instill confidence in  proposed solution with data & insights\n",
    "b) Prove the ROI: Quantify the business impact and demonstrating financial acumen \n",
    "c) Handle Objections: Anticipate concerns, address questions directly, & respond with data and insights when appropriate\n",
    "\n",
    "RUBRIC SCORING CRITERIA: \n",
    "\n",
    "1. Deliver compelling proposals:\n",
    "   - 0 (Not Relevant): Deliver the business case is not relevant to this type of sales call\n",
    "   - 1 (Poor):Does not communicate pricing or value story. \n",
    "   - 2 (Needs Improvement): Does not appear to understand pricing and does not accurately communicate it\n",
    "   - 3 (Adequate): Understands and accurately communicates pricing, but may struggle to justify it. Incorporates value story into the proposal. \n",
    "   - 4 (Good): Understands how pricing was devised and presents it with conviction. Seamlessly weaves value story into the proposal. Customizes proposal deck template to personalize it for the customer\n",
    "   - 5 (Excellent): Owns the proposal and confidently aligns it to the customer’s objectives. Crafts proposal deck that is concise and compelling, such that it can be distributed and reviewed independently without losing its impact\n",
    "\n",
    "2. Prove the ROI:\n",
    "   - 0 (Not Relevant): Deliver the business case is not relevant to this type of sales call\n",
    "   - 1 (Poor): Does not attempt to prove ROI even when there is an opportunity to do so\n",
    "   - 2 (Needs Improvement): Does not effectively communicate the ROI calculations.\n",
    "   - 3 (Adequate): Understands components of and able to conduct basic ROI calculations. Uses widely available or generic data points\n",
    "   - 4 (Good): Uses customer-specific data points. Comfortably and confidently discusses financial impacts\n",
    "   - 5 (Excellent): Demonstrates creativity and resourcefulness to find relevant data points (e.g. peer benchmarks) and make informed assumptions. Understands how budgets are set and managed and how the customer measures investment efficiency\n",
    "\n",
    "3. Handle Objections:\n",
    "   - 0 (Not Relevant): Deliver the business case is not relevant to this type of sales call\n",
    "   - 1 (Poor): Does not respond to objections.\n",
    "   - 2 (Needs Improvement): Ineffectively responds to objections. Does not address the customer’s core concerns.\n",
    "   - 3 (Adequate): Responds to stated objections; does not pivot to avoid confrontation. Prepared with standard responses to common objections. Occasionally offers lengthy or verbose responses or responds in an apologetic tone\n",
    "   - 4 (Good): Prepared with nuanced/specific responses, having anticipated the customer’s objections. Responds directly and confidently; doesn’t act apologetic. Responds with curiosity, seeking to understand the root of the objection\n",
    "   - 5 (Excellent): Proactively uncovers and addresses potential objections early in and throughout the process; turns potential concerns into opportunities to reinforce value. Can speak fluently about LinkedIn’s differences from and advantages over competitors’ products.\n",
    "\n",
    "Skill #5.Gains Commitment: Secure agreement to move the process forward. There are three sub-skills to this skill: \n",
    "a) Navigate the customer’s decision-making processes to anticipate obstacles and build a path to approval\n",
    "b) Set purposeful milestones to advance the sales process\n",
    "c) Establish alignment and mutual accountability to create and maintain momentum\n",
    "\n",
    "RUBRIC SCORING CRITERIA: \n",
    "\n",
    "1. Navigate the customer’s decision-making processes to anticipate obstacles and build a path to approval:\n",
    "   - 0 (Not Relevant): Gains commitment is not relevant to this type of sales call\n",
    "   - 1 (Poor): Fails to identify decision-makers or understand approval processes\n",
    "   - 2 (Needs Improvement): Identifies some decision-makers but does not anticipate or address obstacles\n",
    "   - 3 (Adequate): Identifies key stakeholders and outlines a basic approval process\n",
    "   - 4 (Good): Strategically anticipates obstacles, plans for them, and engages stakeholders effectively\n",
    "   - 5 (Excellent): Proactively navigates complex decision-making processes, overcomes blockers, and builds a compelling path to approval\n",
    "\n",
    "2. Set purposeful milestones to advance the sales process:\n",
    "   - 0 (Not Relevant): Gains commitment is not relevant to this type of sales call\n",
    "   - 1 (Poor): Does not set specific objectives or timelines\n",
    "   - 2 (Needs Improvement): Sets vague or unrealistic milestones\n",
    "   - 3 (Adequate): Defines clear and realistic milestones for advancing the sales process\n",
    "   - 4 (Good): Aligns milestones with customer priorities and uses them to drive momentum\n",
    "   - 5 (Excellent): Sets strategic, impactful milestones that create urgency and keep the sales process on track\n",
    "\n",
    "3. Establish alignment and mutual accountability to create and maintain momentum:\n",
    "   - 0 (Not Relevant): Gains commitment is not relevant to this type of sales call\n",
    "   - 1 (Poor): Fails to establish alignment or hold parties accountable\n",
    "   - 2 (Needs Improvement): Establishes partial alignment but lacks follow-through on accountability\n",
    "   - 3 (Adequate): Aligns objectives with customer needs and sets basic accountability measures\n",
    "   - 4 (Good): Ensures mutual accountability, adapts to changes, and maintains momentum\n",
    "   - 5 (Excellent): Creates strong alignment and accountability through proactive communication and consistently drives momentum forward\n",
    "\n",
    "\n",
    "INSTRUCTIONS FOR EACH CALL: \n",
    "\n",
    "1. Read the transcript looking for opportunities to use these behaviors. \n",
    "2. Consider how well the rep builds on information previously revealed in the conversation and if their questions drive toward the customer's deeper priorities. \n",
    "3. Rate the seller between 0-5 on each sub-skill, using the defined behaviors and output the results in a JSON format. \n",
    "4. Provide specific examples from the transcript to justify each score, starting comments with 'Rep X did [specific action]' and linking it to the scoring criteria. \n",
    "5. Please keep the total tokens for the response under 250 tokens and respond in JSON FORMAT. THIS IS IMPORTANT\n",
    "6. An average performer should be given a 3 \n",
    "7. If someone sounds well prepared, do not hesitate to score them as a 5\n",
    "\n",
    "\n",
    "EXAMPLE OUTPUT: \n",
    "{\n",
    "\"Research Score\": 3, \n",
    "\"Research Comments\": Rep 1 references recent company developments including an acquisition but only knew surface level details \n",
    "\"High-Impact Questions Score\": 5, \n",
    "\"High-Impact Questions Comments\": Rep 1 asks about the customer's current situation with LinkedIn and their sales team expansion plans, which helps to clarify the customer's needs and challenges. \n",
    "\"Examine Challenges Score\": 4, \n",
    "\"Examine Challenges Comments\": Rep 1 asked questions like “What external pressures or events are prompting the business to investigate new solutions” and “What are the consequences of not going live by a certain date,” uncovering the urgency and positioning LinkedIn as a crucial partner. \n",
    "\"Present the Impact Story\": 2, \n",
    "\"Present the Impact Story Comments\": Rep 1 runs through the demo without customizing features or benefits for the customer\n",
    "\"Share Key Insights\": 4, \n",
    "\"Share Key Insights Comments\": Rep 1 is able to effectively translate data points regarding incluenced hires into actionable insights that can further the customer's talent acquitision  \n",
    "\"Align Unique Differentiators\": 3, \n",
    "\"Align Unique Differentiators Comments\": Rep 1 shows an understanding of how the customer measures value and aligns LinkedIn's unique differentiators with this definition of value\n",
    "\"Multi-Threading\": 4, \n",
    "\"Multi-Threading Comments\": Rep 1 identifies Key Stakeholders across different levels in an organization and gains understanding of the internal path to key decision-maker(s)\n",
    "\"Deliver compelling proposals\": 2, \n",
    "\"Deliver compelling proposals Comments\": Rep 1 does not clearly articulate how pricing works. Their explanation is confusing and convoluted. \n",
    "\"Prove the ROI\": 4, \n",
    "\"Prove the ROI Comments\": Rep 1 Uses customer-specific data points to walk through the financial value LinkedIn Talent Solutions brings. The rep effectively quantifies the ROI. \n",
    "\"Handle Objections\": 3, \n",
    "\"Handle Objections Comments\": Rep 1 responds to the customer's objections, but with an apologetic tone. Response sounded standard and prepared and was not customized with the customer in mind. \n",
    "\"Navigate Decision-Making Processes\": 4,\n",
    "\"Navigate Decision-Making Processes Comments\": \"Rep 1 strategically anticipates obstacles in the decision-making process and proactively engages key stakeholders to overcome them.\",\n",
    "\"Set Purposeful Milestones\": 3,\n",
    "\"Set Purposeful Milestones Comments\": \"Rep 1 sets clear milestones but could align them more closely with customer priorities to drive urgency.\",\n",
    "\"Establish Alignment & Accountability\": 5,\n",
    "\"Establish Alignment & Accountability Comments\": \"Rep 1 creates strong alignment with the customer by maintaining proactive communication and ensuring mutual accountability to sustain momentum.\"\n",
    "}\n",
    "'''"
   ]
  },
  {
   "cell_type": "markdown",
   "id": "184afec5-ee1c-4b84-9799-943d5d90d210",
   "metadata": {
    "tags": []
   },
   "source": [
    "### Messages or Calls"
   ]
  },
  {
   "cell_type": "code",
   "execution_count": 33,
   "id": "73ce02d6-913f-41eb-9190-b1906799d960",
   "metadata": {
    "execution_time": {
     "end_time": "2024-12-24T23:10:13.771720Z",
     "start_time": "2024-12-24T23:10:13.768134Z"
    },
    "tags": []
   },
   "outputs": [],
   "source": [
    "def generate_calls(df, column, system_message):\n",
    "    for value in df[column]:\n",
    "        human_message = str(value)\n",
    "        call = [\n",
    "            SystemMessage(content=system_message),\n",
    "            HumanMessage(content=human_message),\n",
    "        ]\n",
    "        yield call"
   ]
  },
  {
   "cell_type": "code",
   "execution_count": 34,
   "id": "11e347b5-3a79-4360-b6a1-20b6ea8ed013",
   "metadata": {
    "execution_time": {
     "end_time": "2024-12-24T23:10:13.929241Z",
     "start_time": "2024-12-24T23:10:13.925821Z"
    },
    "tags": []
   },
   "outputs": [],
   "source": [
    "calls = list(generate_calls(df = df, column = \"transcript\", system_message = system_message))"
   ]
  },
  {
   "cell_type": "code",
   "execution_count": 35,
   "id": "29c12201-e1b2-4bb4-9ae6-b54580bf3387",
   "metadata": {
    "execution_time": {
     "end_time": "2024-12-24T23:10:14.826515Z",
     "start_time": "2024-12-24T23:10:14.769275Z"
    },
    "tags": []
   },
   "outputs": [],
   "source": [
    "pprint(calls[0])"
   ]
  },
  {
   "cell_type": "markdown",
   "id": "6372b5a6-a1fc-4d6a-90e4-ad60ba1bf728",
   "metadata": {
    "tags": []
   },
   "source": [
    "## Prompt GPTChat() & Process Output"
   ]
  },
  {
   "cell_type": "markdown",
   "id": "68eabc9b-018f-4cc8-ac65-7d5f7f4a5475",
   "metadata": {
    "tags": []
   },
   "source": [
    "### Prompt Gaitway"
   ]
  },
  {
   "cell_type": "code",
   "execution_count": 36,
   "id": "abe65a8f-5316-4d90-893b-db2b19ae5e4e",
   "metadata": {
    "execution_time": {
     "end_time": "2024-12-24T23:10:15.821985Z",
     "start_time": "2024-12-24T23:10:15.819216Z"
    },
    "tags": []
   },
   "outputs": [],
   "source": [
    "# batch_call() loops through items in the 'calls' list and prompts the model\n",
    "# There is a time delay of 5 seconds between each call, so Tokens Per Minute (TPM) and Queries Per Minute (QPM) limits on the model are not exceeded\n",
    "# There is also a built in \"error threshold\" a number of errors which if exceeded will request input from the user to continue.\n",
    "# This is intended to avoid running hundreds of prompts when the model is down or group tokens are exceeded. "
   ]
  },
  {
   "cell_type": "code",
   "execution_count": 37,
   "id": "b5aae5c6-a91a-401b-9c61-54f44de6bf56",
   "metadata": {
    "execution_time": {
     "end_time": "2024-12-24T23:10:18.067106Z",
     "start_time": "2024-12-24T23:10:16.767397Z"
    },
    "tags": []
   },
   "outputs": [],
   "source": [
    "chat = ProxiedGPTChat(\n",
    "    resource_id=\"gwc-generativeai-aoai-001\", # individual DV certs\n",
    "    deployment_id=\"GBO-paygo-gpt4o\", # individual DV certs\n",
    "    temperature=0.5,\n",
    "    max_tokens=1000,\n",
    ")\n",
    "\n",
    "messages = [\n",
    "    SystemMessage(content=\"You are a helpful assistant.\"),\n",
    "    HumanMessage(content=\"Write one sentence about LinkedIn.\"),\n",
    "]\n",
    "\n",
    "response = chat.invoke(messages)\n",
    "print(response)"
   ]
  },
  {
   "cell_type": "code",
   "execution_count": 38,
   "id": "de854de9-91fb-4b76-b0c0-03d14afa51f3",
   "metadata": {
    "execution_time": {
     "end_time": "2024-12-24T23:10:18.080732Z",
     "start_time": "2024-12-24T23:10:18.069120Z"
    },
    "tags": []
   },
   "outputs": [],
   "source": [
    "import time\n",
    "import sys\n",
    "import random\n",
    "\n",
    "def exponential_backoff_retry(api_call, max_retries=5, base_delay=1):\n",
    "    retries = 0\n",
    "    while retries < max_retries:\n",
    "        try:\n",
    "            return api_call()\n",
    "        except Exception as e:\n",
    "            if 'StatusCode.RESOURCE_EXHAUSTED' in str(e):\n",
    "                delay = base_delay * (2 ** retries) + random.uniform(0, 1)\n",
    "                print(f\"Rate limit exceeded, retrying in {delay:.2f} seconds...\")\n",
    "                time.sleep(delay)\n",
    "                retries += 1\n",
    "            else:\n",
    "                raise e\n",
    "    raise Exception(\"Max retries exceeded\")\n",
    "\n",
    "calls = list(generate_calls(df=df, column=\"transcript\", system_message=system_message))\n",
    "\n",
    "\n",
    "def batch_call(calls=calls, delay=5, error_threshold=10, model_name=deployment_id, model_version=resource_id, temperature=temperature, max_tokens=max_tokens):\n",
    "    # Define model parameters\n",
    "    model = ProxiedGPTChat(\n",
    "        resource_id=resource_id, \n",
    "        deployment_id=deployment_id,  \n",
    "        temperature=temperature,\n",
    "        max_tokens=max_tokens,\n",
    "    )\n",
    "    # Create empty lists to hold responses and errors\n",
    "    batch_responses = []\n",
    "    error_responses = []\n",
    "    # Set error count to zero\n",
    "    error_count = 0\n",
    "    # Count number of total calls\n",
    "    n = len(calls)\n",
    "    sys.stdout.write(f\"\\rProgress: 0/{n} calls completed. Error Count: 0\")\n",
    "    sys.stdout.flush()\n",
    "    \n",
    "    for i, call in enumerate(calls):\n",
    "        try:\n",
    "            response = exponential_backoff_retry(lambda: model(call))\n",
    "            batch_responses.append(response)\n",
    "        except Exception as e:\n",
    "            error_count += 1\n",
    "            sys.stdout.write(f\"\\rProgress: {i + 1}/{n} calls completed. Error Count: {error_count}\")\n",
    "            sys.stdout.flush()\n",
    "            error_message = f\"{str(e)}\"\n",
    "            batch_responses.append(error_message)\n",
    "            \n",
    "            if error_count > error_threshold and i != n - 1:\n",
    "                print(f\"\\n\\n\\033[1mCurrent error count: {error_count}. Error threshold of {error_threshold} exceeded.\\033[0m\")\n",
    "                print(f\"\\n\\033[1mMost Recent Error Message:\\033[0m \\n{error_message}\")\n",
    "                while True:\n",
    "                    user_input = input(\"\\n\\033[1mDo you want to continue? (y/n):\\033[0m\")\n",
    "                    if user_input.lower() == 'y':\n",
    "                        error_count = 0  # Reset the error count if the user wants to continue\n",
    "                        print(\"Error count reset by user.\")\n",
    "                        break  # Exit the loop if input is valid\n",
    "                    elif user_input.lower() == 'n':\n",
    "                        print(\"Operation halted by user.\")\n",
    "                        return batch_responses, error_responses  # Exit the function if input is 'n'\n",
    "                    else:\n",
    "                        print(\"Invalid input. Please enter 'y' or 'n'.\")\n",
    "        \n",
    "        sys.stdout.write(f\"\\rProgress: {i + 1}/{n} calls completed. Error Count: {error_count}\")\n",
    "        sys.stdout.flush()\n",
    "        time.sleep(delay) \n",
    "\n",
    "    \n",
    "    print()\n",
    "    print(\"Finished!\")\n",
    "    print()  # To ensure the progress message is followed by a newline\n",
    "    \n",
    "    return batch_responses, error_responses\n",
    "\n"
   ]
  },
  {
   "cell_type": "code",
   "execution_count": 39,
   "id": "85e8b9e5-3f70-405a-a3c5-c4741b3af6f8",
   "metadata": {
    "execution_time": {
     "end_time": "2024-12-24T23:11:34.887180Z",
     "start_time": "2024-12-24T23:10:18.965528Z"
    },
    "scrolled": true,
    "tags": []
   },
   "outputs": [],
   "source": [
    "batch_responses, error_responses = batch_call()\n"
   ]
  },
  {
   "cell_type": "code",
   "execution_count": 40,
   "id": "5050646c-3021-4cfd-acae-b4ada8ef64a6",
   "metadata": {
    "execution_time": {
     "end_time": "2024-12-24T23:11:38.769654Z",
     "start_time": "2024-12-24T23:11:38.766812Z"
    },
    "tags": []
   },
   "outputs": [],
   "source": [
    "#save a copy before continuing.\n",
    "batch_responses_w_errors = batch_responses"
   ]
  },
  {
   "cell_type": "code",
   "execution_count": 41,
   "id": "7b589873-351e-4fdb-b052-0dea25a26e4e",
   "metadata": {
    "execution_time": {
     "end_time": "2024-12-24T23:11:39.942793Z",
     "start_time": "2024-12-24T23:11:39.938812Z"
    },
    "tags": []
   },
   "outputs": [],
   "source": [
    "print(error_responses)"
   ]
  },
  {
   "cell_type": "code",
   "execution_count": 42,
   "id": "22c67051-0569-4861-81a5-c0e521ca14be",
   "metadata": {
    "execution_time": {
     "end_time": "2024-12-24T23:11:40.814305Z",
     "start_time": "2024-12-24T23:11:40.810695Z"
    },
    "tags": []
   },
   "outputs": [],
   "source": [
    "print(batch_responses)"
   ]
  },
  {
   "cell_type": "code",
   "execution_count": 34,
   "id": "97ceaa1f-680c-490b-b475-49f12694d0de",
   "metadata": {
    "execution_time": {
     "end_time": "2024-12-21T00:07:45.484280Z",
     "start_time": "2024-12-21T00:07:45.479922Z"
    },
    "scrolled": true,
    "tags": []
   },
   "outputs": [],
   "source": [
    "print(batch_responses_w_errors)"
   ]
  },
  {
   "cell_type": "markdown",
   "id": "5a9b3c61-9025-4843-84ab-458ffa2b5d5c",
   "metadata": {
    "tags": []
   },
   "source": [
    "### Check and Rerun Errors"
   ]
  },
  {
   "cell_type": "code",
   "execution_count": 35,
   "id": "925df341-4484-4cf1-b771-9b9b0195f5bf",
   "metadata": {
    "execution_time": {
     "end_time": "2024-12-21T00:07:46.525478Z",
     "start_time": "2024-12-21T00:07:46.521848Z"
    },
    "tags": []
   },
   "outputs": [],
   "source": [
    "# handle_response_errors() will loop through batch_responses and the 'calls' list\n",
    "# When it encouters errors it will attempt to handle the error and rerun UP TO the number of times set in the max_retrieds param"
   ]
  },
  {
   "cell_type": "code",
   "execution_count": 36,
   "id": "bbbc53e0-5169-474d-8f72-127b355c34ea",
   "metadata": {
    "execution_time": {
     "end_time": "2024-12-21T00:07:47.499367Z",
     "start_time": "2024-12-21T00:07:47.479337Z"
    },
    "tags": []
   },
   "outputs": [],
   "source": [
    "#Find errors and missed calls\n",
    "errors_to_fix = []\n",
    "calls_to_resend = []\n",
    " \n",
    " \n",
    "for i, c in enumerate(batch_responses):\n",
    "    try:\n",
    "        print(i)\n",
    "        pprint(c.content)\n",
    "        continue\n",
    "    except:\n",
    "        print('Error',i)\n",
    "        errors_to_fix.append(i)\n",
    "        calls_to_resend.append(calls[i])\n",
    " \n",
    "#Resend missed calls        \n",
    "batch_responses_fixed, error_responses_fixed = batch_call(calls=calls_to_resend, \n",
    "                                              delay=0, \n",
    "                                              error_threshold=30, \n",
    "                                              model_name= deployment_id, \n",
    "                                              model_version=resource_id, \n",
    "                                              temperature=temperature, \n",
    "                                              max_tokens=max_tokens)\n",
    " \n",
    "#Fix batch Responses \n",
    "for i, error  in enumerate(errors_to_fix):\n",
    "    print(i, error)\n",
    "    batch_responses[error] = batch_responses_fixed[i]"
   ]
  },
  {
   "cell_type": "code",
   "execution_count": 37,
   "id": "cf273768-450d-4eef-ad0e-63a6e1b4b9c7",
   "metadata": {
    "execution_time": {
     "end_time": "2024-12-21T00:07:49.480522Z",
     "start_time": "2024-12-21T00:07:49.477150Z"
    },
    "tags": []
   },
   "outputs": [],
   "source": [
    "#handle_response_errors()"
   ]
  },
  {
   "cell_type": "code",
   "execution_count": 38,
   "id": "a01744dd-bb48-4668-9b41-ebc3a53700ae",
   "metadata": {
    "execution_time": {
     "end_time": "2024-12-21T00:07:49.517962Z",
     "start_time": "2024-12-21T00:07:49.482967Z"
    },
    "tags": []
   },
   "outputs": [],
   "source": [
    "#save a copy before continuing.\n",
    "batch_responses_wo_errors = batch_responses"
   ]
  },
  {
   "cell_type": "code",
   "execution_count": 39,
   "id": "3b1ef189-d17c-43d5-b262-6be17fc7557a",
   "metadata": {
    "execution_time": {
     "end_time": "2024-12-21T00:07:49.590979Z",
     "start_time": "2024-12-21T00:07:49.519949Z"
    }
   },
   "outputs": [],
   "source": [
    "print(batch_responses)"
   ]
  },
  {
   "cell_type": "markdown",
   "id": "4b3a7780-a7aa-4704-8462-b24d3d8c3f48",
   "metadata": {},
   "source": [
    "### Parse JSON in Output"
   ]
  },
  {
   "cell_type": "code",
   "execution_count": 40,
   "id": "f812ec6b-e91f-4ba7-8d67-4917cbff01b1",
   "metadata": {
    "execution_time": {
     "end_time": "2024-12-21T00:07:54.486990Z",
     "start_time": "2024-12-21T00:07:54.478475Z"
    }
   },
   "outputs": [],
   "source": [
    "import json\n",
    "\n",
    "def parse_json(batch_responses):\n",
    "    # Initialize an empty list to store the processed outputs\n",
    "    gai_output = []\n",
    "\n",
    "    # Loop through each AIMessage in the batch_responses list\n",
    "    for i, response in enumerate(batch_responses):\n",
    "\n",
    "        # Extract the 'content' field from the response and clean it\n",
    "        try:\n",
    "\n",
    "            # Initialize a dictionary to store the extracted values for this row            \n",
    "            row_data = {'index': i}  # Include the index for tracking\n",
    "\n",
    "            content = response.content.strip()\n",
    "\n",
    "            # Ensure content is not empty and looks like JSON\n",
    "            if content:\n",
    "                # Remove triple backticks if present (common in some formats)\n",
    "                if content.startswith('```json') and content.endswith('```'):\n",
    "                    content = content[7:-3].strip()\n",
    "\n",
    "                # Check if content is a valid JSON object (starts and ends with curly braces)\n",
    "                if content.startswith('{') and content.endswith('}'):\n",
    "                    try:\n",
    "                        # Parse the JSON content into a dictionary\n",
    "                        summary_json = json.loads(content)\n",
    "\n",
    "                        ## dynamic extraction\n",
    "                        for key, value in summary_json.items():\n",
    "                            row_data[key] = value\n",
    "\n",
    "                    except json.JSONDecodeError as e:\n",
    "                        # log the error and continue\n",
    "                        row_data['Error'] = f\"JSON parsing error: {e}\"\n",
    "                        row_data['Offending content'] = content[:100]  # Log the first 100 characters for debugging\n",
    "                else:\n",
    "                    row_data['Error'] = \"Content is not in valid JSON format\"\n",
    "                    row_data['Offending content'] = content[:100]\n",
    "            else:\n",
    "                row_data['Error'] = \"Empty or missing content\"\n",
    "\n",
    "            # append the results\n",
    "            gai_output.append(row_data)\n",
    "\n",
    "        except:\n",
    "            row_data['Error'] = \"Unknown error\"\n",
    "\n",
    "            # append the results\n",
    "            gai_output.append(row_data)\n",
    "\n",
    "            print(\"no content in \", i)\n",
    "\n",
    "    return gai_output"
   ]
  },
  {
   "cell_type": "code",
   "execution_count": 41,
   "id": "78637ba1-685b-4c99-b060-00f4316a055b",
   "metadata": {
    "execution_time": {
     "end_time": "2024-12-21T00:08:02.484859Z",
     "start_time": "2024-12-21T00:08:02.479960Z"
    },
    "scrolled": true,
    "tags": []
   },
   "outputs": [],
   "source": [
    "parsed_output = pd.DataFrame(parse_json(batch_responses))\n",
    "\n",
    "#print(parsed_output)"
   ]
  },
  {
   "cell_type": "code",
   "execution_count": 42,
   "id": "67db5ffb-44da-4525-98e4-d884a155cdbe",
   "metadata": {
    "execution_time": {
     "end_time": "2024-12-21T00:08:26.491881Z",
     "start_time": "2024-12-21T00:08:26.478364Z"
    }
   },
   "outputs": [],
   "source": [
    "#parsed_output.head()"
   ]
  },
  {
   "cell_type": "code",
   "execution_count": 43,
   "id": "c21e0912-57aa-43e6-8b77-5eb03ec412f6",
   "metadata": {
    "execution_time": {
     "end_time": "2024-12-21T00:09:19.486140Z",
     "start_time": "2024-12-21T00:09:19.481186Z"
    },
    "tags": []
   },
   "outputs": [],
   "source": [
    "# Display all columns\n",
    "pd.set_option('display.max_columns', None)\n",
    "\n",
    "# Display all rows\n",
    "pd.set_option('display.max_rows', None)\n",
    "\n",
    "# Display full content of each column\n",
    "pd.set_option('display.max_colwidth', None)\n"
   ]
  },
  {
   "cell_type": "markdown",
   "id": "a1852811-29f1-440b-9ea0-5e65b065635b",
   "metadata": {},
   "source": [
    "### Topic Details Dataframe"
   ]
  },
  {
   "cell_type": "code",
   "execution_count": 44,
   "id": "a450e4ad-4916-4a56-91b4-f150763f036d",
   "metadata": {
    "execution_time": {
     "end_time": "2024-12-21T00:09:20.492838Z",
     "start_time": "2024-12-21T00:09:20.483502Z"
    },
    "tags": []
   },
   "outputs": [],
   "source": [
    "# Join the two DataFrames on the index\n",
    "df_with_output = df.join(parsed_output, how='left')\n",
    "\n",
    "# Drop the 'index' column\n",
    "df_with_output.drop(columns=['index','transcript'], inplace=True)"
   ]
  },
  {
   "cell_type": "code",
   "execution_count": 45,
   "id": "60a43817-14a4-4915-a2a7-bfceb43e00ae",
   "metadata": {
    "execution_time": {
     "end_time": "2024-12-21T00:09:20.630022Z",
     "start_time": "2024-12-21T00:09:20.625143Z"
    },
    "tags": []
   },
   "outputs": [],
   "source": [
    "df_with_output['callid'] = df_with_output['callid'].astype(str)"
   ]
  },
  {
   "cell_type": "code",
   "execution_count": 46,
   "id": "acb17b5c-446e-4bf0-806e-e8586323efae",
   "metadata": {
    "execution_time": {
     "end_time": "2024-12-21T00:09:21.622647Z",
     "start_time": "2024-12-21T00:09:21.605460Z"
    },
    "tags": []
   },
   "outputs": [],
   "source": [
    "df.head()"
   ]
  },
  {
   "cell_type": "code",
   "execution_count": 47,
   "id": "8d50da1d-ded7-4b30-9802-6d0a99270957",
   "metadata": {
    "execution_time": {
     "end_time": "2024-12-21T00:09:22.495074Z",
     "start_time": "2024-12-21T00:09:22.478688Z"
    },
    "tags": []
   },
   "outputs": [],
   "source": [
    "parsed_output.head()"
   ]
  },
  {
   "cell_type": "code",
   "execution_count": 48,
   "id": "179ee33b-8977-4fda-9fbd-0cb66e86f92f",
   "metadata": {
    "execution_time": {
     "end_time": "2024-12-21T00:09:22.525907Z",
     "start_time": "2024-12-21T00:09:22.498260Z"
    },
    "tags": []
   },
   "outputs": [],
   "source": [
    "df_with_output.head()"
   ]
  },
  {
   "cell_type": "markdown",
   "id": "01a01862-b2f3-4811-87e4-f0c0407e264d",
   "metadata": {
    "execution_time": {
     "end_time": "2024-05-23T23:31:25.038409Z",
     "start_time": "2024-05-23T23:31:25.035007Z"
    },
    "tags": []
   },
   "source": [
    "## Export Data to Excel"
   ]
  },
  {
   "cell_type": "code",
   "execution_count": 49,
   "id": "c806236a-ccf1-4d7a-867d-e36b778620b6",
   "metadata": {
    "execution_time": {
     "end_time": "2024-12-21T00:09:23.531367Z",
     "start_time": "2024-12-21T00:09:23.523810Z"
    },
    "tags": []
   },
   "outputs": [],
   "source": [
    "import base64\n",
    "import os\n",
    "from IPython.display import HTML\n",
    "def generate_excel_download_link(df, filename=\"LMS Facta Scores.xlsx\", title = \"Download Excel file\", max_no_rows=65530):\n",
    "    '''\n",
    "    Returns a download link for the report data to be shown in jupyter notebook.\n",
    "    Capped at max_no_rows due to excel limitation of not allowing more than max_no_rows urls in a single spreadsheet.\n",
    "    '''\n",
    "    if len(df)>max_no_rows:\n",
    "        raise NameError(f'Number of rows exceeded: {len(df)}')\n",
    "    df.to_excel(filename, index=False) # Save file temporarily (take advantage of pandas excel writer)\n",
    "    with open(filename, 'rb') as f: # Open file in binary to convert to base64\n",
    "        f_binary = f.read()\n",
    "        b64 = base64.encodebytes(f_binary)\n",
    "        payload = b64.decode()\n",
    "    os.remove(filename) # Cleanup file\n",
    "    html = '<a download=\"{filename}\" href=\"data:text;base64,{payload}\" target=\"_blank\">{title}</a>'\n",
    "    html = html.format(payload=payload,title=title,filename=filename)\n",
    "    return HTML(html)"
   ]
  },
  {
   "cell_type": "code",
   "execution_count": 50,
   "id": "3095206b-8877-42df-acfc-dde6aec27ac3",
   "metadata": {
    "execution_time": {
     "end_time": "2024-12-21T00:09:24.490117Z",
     "start_time": "2024-12-21T00:09:24.482705Z"
    },
    "tags": []
   },
   "outputs": [],
   "source": [
    "def chunker(seq, size):\n",
    "    '''\n",
    "    Splits the given pandas.DataFrame into chunks of equal size.\n",
    "      \n",
    "    Parameters\n",
    "    ----------\n",
    "    seq: pandas.DataFrame\n",
    "        Table to be chunked\n",
    "    size: int\n",
    "        Size of each chunk\n",
    "    '''\n",
    "    return (seq[pos:pos + size] for pos in range(0, len(seq), size))\n",
    "  \n",
    "def create_download_links(df, filename=\"club updated.xlsx\", title = \"Download Excel file\", max_no_rows=65530):\n",
    "    '''\n",
    "    Returns a download link for the report data to be shown in jupyter notebook.\n",
    "    Splits the report into buckets when number of rows exceeds max_no_rows.\n",
    "  \n",
    "    Returns\n",
    "    -------\n",
    "    links: list\n",
    "        To see in jupyter, run:\n",
    "            > for link in create_download_links(df, filename=\"my_report.xlsx\"):\n",
    "            >     display(link)\n",
    "    '''\n",
    "    filename_stub = filename.replace(\".xlsx\",\"\")\n",
    "    links = []\n",
    "    \n",
    "    if len(df)>max_no_rows:\n",
    "        chunks = list(chunker(df, max_no_rows))\n",
    "        print(f'Number of rows exceeded, splitting report into {len(chunks)} files')\n",
    "        for i,chunk in enumerate(chunks):\n",
    "            links.append(generate_excel_download_link(chunk, filename=f'{filename_stub}_{i}.xlsx', title = f'{title} - Partition {i}', max_no_rows=max_no_rows))\n",
    "    else:\n",
    "        links.append(generate_excel_download_link(df, filename = filename, title = title, max_no_rows=max_no_rows))\n",
    "    return links"
   ]
  },
  {
   "cell_type": "code",
   "execution_count": 51,
   "id": "9bf2285f-09e9-48a5-8909-126d83f2f285",
   "metadata": {
    "execution_time": {
     "end_time": "2024-12-21T00:09:25.646194Z",
     "start_time": "2024-12-21T00:09:25.488394Z"
    },
    "tags": []
   },
   "outputs": [],
   "source": [
    "for link in create_download_links(df_with_output):\n",
    "    display(link)"
   ]
  },
  {
   "cell_type": "markdown",
   "id": "e40749a3-1f31-40c3-b670-f44ccfd6f540",
   "metadata": {},
   "source": [
    "Save the summaries and send to hdfs and create a trino."
   ]
  },
  {
   "cell_type": "code",
   "execution_count": 53,
   "id": "32962eef-fedc-45c4-bd8b-c57f586e5e97",
   "metadata": {
    "execution_time": {
     "end_time": "2024-12-21T00:40:03.509823Z",
     "start_time": "2024-12-21T00:40:03.504256Z"
    },
    "tags": []
   },
   "outputs": [],
   "source": [
    "export_table = df_with_output\n",
    "export_table['callid'].nunique()"
   ]
  },
  {
   "cell_type": "code",
   "execution_count": 54,
   "id": "d81142cc-269f-43c0-a3f1-96467e7b272a",
   "metadata": {
    "execution_time": {
     "end_time": "2024-12-21T00:41:15.485713Z",
     "start_time": "2024-12-21T00:41:15.479215Z"
    },
    "tags": []
   },
   "outputs": [],
   "source": [
    "##export table in a csv format file to save it in the directory permanaently \n",
    "#export_table.to_csv(\"df_test.csv\", index = False)\n",
    "\n",
    "##put the file into the directory that was earlier created \n",
    "#!hdfs dfs -put -f df_test.csv $HOLDEM_PATH/user/gtme/LMS_BPskills/output\n",
    "\n",
    "##check the directory shows the inputted file listed\n",
    "#!hdfs dfs -ls $HOLDEM_PATH/user/gtme/LMS_BPskills/output\n",
    "\n",
    "##since this was testing file, remove the file from the directory to delete it after successful testing\n",
    "#!hdfs dfs -rm $HOLDEM_PATH/user/gtme/LMS_BPskills/output/df_test.csv\n"
   ]
  },
  {
   "cell_type": "code",
   "execution_count": 58,
   "id": "e557c298-cd44-4fbf-90a9-5f6a1f2a3ec0",
   "metadata": {
    "execution_time": {
     "end_time": "2024-12-21T01:21:48.588793Z",
     "start_time": "2024-12-21T01:21:42.244157Z"
    }
   },
   "outputs": [],
   "source": [
    "##check all the files present in the directory that will later form our data table\n",
    "!hdfs dfs -ls $HOLDEM_PATH/user/gtme/LMS_BPskills/output"
   ]
  },
  {
   "cell_type": "code",
   "execution_count": null,
   "id": "b41d76f6-a39e-4cd9-b4e8-aa7762ce0e56",
   "metadata": {},
   "outputs": [],
   "source": [
    "export_table.to_csv(\"df_output_oct15.csv\", index = False)"
   ]
  },
  {
   "cell_type": "code",
   "execution_count": null,
   "id": "f0328bf2-bcf2-49d2-9410-e348f782cb49",
   "metadata": {},
   "outputs": [],
   "source": [
    "#!hdfs dfs -mkdir $HOLDEM_PATH/user/gtme/LMS_BPskills/output\n",
    "!hdfs dfs -put -f df_output_oct15.csv $HOLDEM_PATH/user/gtme/LMS_BPskills/output"
   ]
  },
  {
   "cell_type": "code",
   "execution_count": null,
   "id": "0be570fc-faf8-4d3b-a4c5-2b5afc9e43a0",
   "metadata": {},
   "outputs": [],
   "source": [
    "!hdfs dfs -ls $HOLDEM_PATH/user/gtme/LMS_BPskills/output"
   ]
  },
  {
   "cell_type": "code",
   "execution_count": null,
   "id": "52931136-379a-4f5e-8f7d-9e400a2eb55d",
   "metadata": {
    "execution_time": {
     "end_time": "2024-10-29T18:39:04.860992Z",
     "start_time": "2024-10-29T18:39:04.860975Z"
    },
    "tags": []
   },
   "outputs": [],
   "source": [
    "#!hdfs dfs -put -f df_with_output_6.csv $HOLDEM_PATH/user/superstore/skills_output_ar/\n",
    "#!hdfs dfs -ls $HOLDEM_PATH/user/superstore/skills_output_ar/"
   ]
  },
  {
   "cell_type": "code",
   "execution_count": null,
   "id": "12b23340-999f-4fcf-8c79-5549c82c0945",
   "metadata": {},
   "outputs": [],
   "source": []
  },
  {
   "cell_type": "code",
   "execution_count": null,
   "id": "d6292999-aa44-459a-8783-fceb40b25e59",
   "metadata": {},
   "outputs": [],
   "source": []
  },
  {
   "cell_type": "markdown",
   "id": "99ea4083-cadf-492e-a696-a768c63df7ec",
   "metadata": {},
   "source": [
    "Run the following command on another notebook on a normal python3 Kernel.\n",
    "\n",
    "%load_ext hdfsmagic.magics\n",
    "%manage_hdfs -c 'holdem'"
   ]
  }
 ],
 "metadata": {
  "darwin": {
   "git_path": "/.git/decision-science/decision_intelligence/Gong_NLP/Seller_Pipeline/skill_tracking_business_case-scheduled.ipynb",
   "git_repo_name": "decision-science",
   "resource_id": 14790183,
   "username": "emcbride"
  },
  "kernelspec": {
   "display_name": "Python3-Scratchpad",
   "language": "python",
   "name": "python3-scratchpad"
  },
  "language_info": {
   "codemirror_mode": {
    "name": "ipython",
    "version": 3
   },
   "file_extension": ".py",
   "mimetype": "text/x-python",
   "name": "python",
   "nbconvert_exporter": "python",
   "pygments_lexer": "ipython3",
   "version": "3.10.2"
  },
  "toc-autonumbering": false,
  "toc-showmarkdowntxt": false,
  "toc-showtags": false
 },
 "nbformat": 4,
 "nbformat_minor": 5
}
